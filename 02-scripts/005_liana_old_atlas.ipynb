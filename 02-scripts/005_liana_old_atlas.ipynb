{
 "cells": [
  {
   "cell_type": "markdown",
   "id": "3834dd88-7fde-4a04-baad-7dbba93d58a4",
   "metadata": {},
   "source": [
    "# LIANA tumor vs normal core atlas"
   ]
  },
  {
   "cell_type": "markdown",
   "id": "0cfab40d-ef27-42fc-9bfa-a0d7f0de1732",
   "metadata": {},
   "source": [
    "## Libraries"
   ]
  },
  {
   "cell_type": "code",
   "execution_count": 1,
   "id": "ca17a256-aa64-4030-9da9-5fbb8a4aba95",
   "metadata": {},
   "outputs": [],
   "source": [
    "import numpy as  np\n",
    "import pandas as pd\n",
    "import scanpy as sc\n",
    "import decoupler as dc\n",
    "\n",
    "# import liana\n",
    "import liana as li\n",
    "from liana.method import singlecellsignalr, connectome, cellphonedb, natmi, logfc, cellchat, geometric_mean\n",
    "\n",
    "import sc_atlas_helpers as ah\n",
    "#from scanpy_helper_submodule import scanpy_helpers as sh"
   ]
  },
  {
   "cell_type": "code",
   "execution_count": 2,
   "id": "2b9a1313-1cac-4f41-91ea-9a979727d40b",
   "metadata": {},
   "outputs": [
    {
     "name": "stderr",
     "output_type": "stream",
     "text": [
      "/home/kvalem/.local/lib/python3.11/site-packages/tqdm/auto.py:21: TqdmWarning: IProgress not found. Please update jupyter and ipywidgets. See https://ipywidgets.readthedocs.io/en/stable/user_install.html\n"
     ]
    }
   ],
   "source": [
    "from tqdm.auto import tqdm\n",
    "import contextlib\n",
    "import os\n",
    "import statsmodels.stats.multitest\n",
    "import numpy as np\n",
    "from anndata import AnnData\n",
    "import scipy.sparse"
   ]
  },
  {
   "cell_type": "markdown",
   "id": "4f53c7e5-eeb7-4a47-9944-4d90915c6e4e",
   "metadata": {},
   "source": [
    "## Define paths"
   ]
  },
  {
   "cell_type": "code",
   "execution_count": null,
   "id": "82777461-80f3-412c-b621-bab32396cd04",
   "metadata": {},
   "outputs": [],
   "source": [
    "adata = sc.read_h5ad(\"/data/projects/2022/CRCA/results/v0.1/crc-atlas-dataset/latest/ds_analyses/liana_cell2cell/core_atlas/adata_rank_agregate.h5ad\")"
   ]
  },
  {
   "cell_type": "code",
   "execution_count": null,
   "id": "f06069bc-4c84-4f09-b874-36f9723b793f",
   "metadata": {},
   "outputs": [],
   "source": [
    "# Core atlas\n",
    "#adata =sc.read_h5ad(\"/data/projects/2022/CRCA/results/v1/final/mui_innsbruck-adata.h5ad\")"
   ]
  },
  {
   "cell_type": "code",
   "execution_count": null,
   "id": "a90f8b47-f57a-4cf9-a506-582c4fad3173",
   "metadata": {},
   "outputs": [],
   "source": [
    "adata"
   ]
  },
  {
   "cell_type": "code",
   "execution_count": null,
   "id": "61c512b1-0674-4d2c-aa0d-29574d42ba26",
   "metadata": {},
   "outputs": [],
   "source": [
    "set(adata.obs.cell_type_fine)"
   ]
  },
  {
   "cell_type": "code",
   "execution_count": null,
   "id": "6c1e199b-a514-402a-b933-542428dfc4cc",
   "metadata": {},
   "outputs": [],
   "source": [
    "set(adata.obs.cell_type_middle)"
   ]
  },
  {
   "cell_type": "code",
   "execution_count": null,
   "id": "b4a406ad-7b59-42b8-8dda-01c58256d1c7",
   "metadata": {},
   "outputs": [],
   "source": [
    "set(adata.obs.sample_type)"
   ]
  },
  {
   "cell_type": "markdown",
   "id": "f8c5618a-12ae-4c1e-a719-27f122840fe1",
   "metadata": {},
   "source": [
    "## Define comparison: tumor vs normal"
   ]
  },
  {
   "cell_type": "code",
   "execution_count": null,
   "id": "a7af2c28-3643-4ca5-b759-7e1036b01a5f",
   "metadata": {},
   "outputs": [],
   "source": [
    "comparison=\"tumor_normal\" #//immune_type'\n",
    "subset = \"core_atlas\" #//neutrophil_subclusters"
   ]
  },
  {
   "cell_type": "code",
   "execution_count": null,
   "id": "3fa495c3-2515-4fe1-9e92-151c9a2e28f9",
   "metadata": {},
   "outputs": [],
   "source": [
    "cell_type_oi = \"Cancer cell\"\n",
    "n_top_ligands = 30"
   ]
  },
  {
   "cell_type": "code",
   "execution_count": null,
   "id": "e2fc2961-4e4c-4eac-a9d7-35d01cfcb8a9",
   "metadata": {},
   "outputs": [],
   "source": [
    "resDir = f\"/data/projects/2022/CRCA/results/v1/final/liana_cell2cell/{subset}/{comparison}\""
   ]
  },
  {
   "cell_type": "code",
   "execution_count": null,
   "id": "d9f8eb10-7f87-417d-8df7-d0a99f05712b",
   "metadata": {},
   "outputs": [],
   "source": [
    "resDir"
   ]
  },
  {
   "cell_type": "code",
   "execution_count": null,
   "id": "b24c9c45-e94d-4a07-b90f-8321a895e3f5",
   "metadata": {},
   "outputs": [],
   "source": [
    "if comparison ==\"immune_type\":\n",
    "    title_plot = f\"Patient stratification: {cell_type_oi}, top {n_top_ligands} DE ligands\"\n",
    "    save_name_plot =  f\"patient_stratification_{cell_type_oi}_top_{n_top_ligands}_DE_ligands\"\n",
    "elif comparison==\"tumor_normal\":\n",
    "    perturbation = comparison.split(\"_\")[0].upper()\n",
    "    baseline = comparison.split(\"_\")[1].upper()\n",
    "    title_plot = f\"{perturbation} vs {baseline}: {cell_type_oi}, top {n_top_ligands} DE ligands\"\n",
    "    cell_type_oi = cell_type_oi.replace(\" \",\"\")\n",
    "    save_name_plot =  f\"{perturbation}_vs_{baseline}_{cell_type_oi}_top_{n_top_ligands}_DE_ligands\""
   ]
  },
  {
   "cell_type": "markdown",
   "id": "7e3aa6ad-675e-43d9-93e3-245514d9c917",
   "metadata": {
    "tags": []
   },
   "source": [
    "## Pseudobulk"
   ]
  },
  {
   "cell_type": "markdown",
   "id": "efecf7db-b7e7-4b54-aa94-a0afa458fe96",
   "metadata": {},
   "source": [
    "### Comparison: tumor vs normal"
   ]
  },
  {
   "cell_type": "code",
   "execution_count": null,
   "id": "aa7086b4-9f0d-47a0-8cd8-5859e23a338a",
   "metadata": {},
   "outputs": [],
   "source": [
    "adata"
   ]
  },
  {
   "cell_type": "code",
   "execution_count": null,
   "id": "f2568e77-1fc2-4ae3-9dbf-637288dad01d",
   "metadata": {},
   "outputs": [],
   "source": [
    "## Filter adata for sample_type only tumor & normal \n",
    "adata = adata[adata.obs.sample_type.isin([\"tumor\",\"normal\"])]\n",
    "#adata = adata[adata.obs.cell_type_middle.isin([\"Epithelial cell\",\"Cancer cell\"])]"
   ]
  },
  {
   "cell_type": "code",
   "execution_count": null,
   "id": "4b4177ca-7ccd-4764-b582-02e67c1030d9",
   "metadata": {},
   "outputs": [],
   "source": [
    "adata.obs[\"cell_type_new\"] =  \"epithelial_cancer\""
   ]
  },
  {
   "cell_type": "code",
   "execution_count": null,
   "id": "c860fb75-6387-41e8-8c70-460dfd5f4292",
   "metadata": {},
   "outputs": [],
   "source": [
    "set(adata.obs.cell_type_new)"
   ]
  },
  {
   "cell_type": "code",
   "execution_count": null,
   "id": "d55f90c3-d05d-46ce-a0db-23a1d9e9e14a",
   "metadata": {},
   "outputs": [],
   "source": [
    "#adata_original = adata.copy()"
   ]
  },
  {
   "cell_type": "code",
   "execution_count": null,
   "id": "b735de51-8570-4b3c-a533-63fcc7e40373",
   "metadata": {},
   "outputs": [],
   "source": [
    "adata"
   ]
  },
  {
   "cell_type": "code",
   "execution_count": null,
   "id": "400109ab-3205-4489-abd9-b39f7e2435f0",
   "metadata": {},
   "outputs": [],
   "source": [
    "#adata.obs.groupby([\"patient_id\", \"sample_type\"]).count()"
   ]
  },
  {
   "cell_type": "code",
   "execution_count": null,
   "id": "d41d0481-0792-4e5e-92fb-506e2c3f7c13",
   "metadata": {},
   "outputs": [],
   "source": [
    "## Filter adata to have paired samples only \n",
    "filtered_indices = adata.obs.groupby('patient_id').filter(lambda x: len(set(x['sample_type'])) >= 2).index\n",
    "adata = adata[filtered_indices] #paired data"
   ]
  },
  {
   "cell_type": "code",
   "execution_count": null,
   "id": "221b06d1-b54f-4c54-a178-2621013cc52a",
   "metadata": {},
   "outputs": [],
   "source": [
    "adata"
   ]
  },
  {
   "cell_type": "code",
   "execution_count": 23,
   "id": "e39a6129-12a0-4211-aef6-66977ce4ae35",
   "metadata": {},
   "outputs": [
    {
     "name": "stderr",
     "output_type": "stream",
     "text": [
      "/home/kvalem/.conda/envs/liana_2024/lib/python3.11/site-packages/decoupler/utils_anndata.py:181: FutureWarning: The default of observed=False is deprecated and will be changed to True in a future version of pandas. Pass observed=False to retain current behavior or observed=True to adopt the future default and silence this warning.\n",
      "/home/kvalem/.local/lib/python3.11/site-packages/anndata/_core/anndata.py:430: FutureWarning: The dtype argument is deprecated and will be removed in late 2024.\n"
     ]
    }
   ],
   "source": [
    "pdata = dc.get_pseudobulk(\n",
    "    adata,\n",
    "    sample_col='sample_id',\n",
    "    groups_col=['sample_type',\"cell_type_sub\"],\n",
    "    layer='counts',\n",
    "    mode='sum',\n",
    "    min_cells=0,\n",
    "    min_counts=0\n",
    ")"
   ]
  },
  {
   "cell_type": "code",
   "execution_count": null,
   "id": "ea76cec2-9142-414e-be5e-2098156619bb",
   "metadata": {},
   "outputs": [],
   "source": [
    "# Pseudobulk \n",
    "groups_col =\"cell_type_new\" # tumor vs normal \n",
    "sample_col=\"sample_id\" \n",
    "layer=\"denoised\"\n",
    "pseudobulk = [\n",
    "    (\n",
    "        group,\n",
    "        dc.get_pseudobulk(\n",
    "            adata[adata.obs[groups_col] == group],\n",
    "            sample_col=sample_col,\n",
    "            groups_col=[groups_col,\"cell_type_middle\",\"patient_id\",\"dataset\"],\n",
    "            layer=layer,\n",
    "            mode=\"sum\",\n",
    "            min_prop=0.05,\n",
    "            min_cells=10,\n",
    "            min_counts=500,\n",
    "            min_smpls=10,\n",
    "        ),\n",
    "    )\n",
    "    for group in adata.obs[groups_col].unique()\n",
    "]"
   ]
  },
  {
   "cell_type": "code",
   "execution_count": null,
   "id": "ffb2b345-9a56-495a-b171-60374825a36c",
   "metadata": {},
   "outputs": [],
   "source": [
    "# Pseudobulk \n",
    "groups_col =\"cell_type_new\" # tumor vs normal \n",
    "sample_col=\"sample_id\" \n",
    "layer=\"counts\"\n",
    "pseudobulk_c = [\n",
    "    (\n",
    "        group,\n",
    "        dc.get_pseudobulk(\n",
    "            adata[adata.obs[groups_col] == group],\n",
    "            sample_col=sample_col,\n",
    "            groups_col=[groups_col,\"cell_type_middle\",\"patient_id\",\"dataset\"],\n",
    "            layer=layer,\n",
    "            mode=\"sum\",\n",
    "            min_prop=0.05,\n",
    "            min_cells=10,\n",
    "            min_counts=500,\n",
    "            min_smpls=10,\n",
    "        ),\n",
    "    )\n",
    "    for group in adata.obs[groups_col].unique()\n",
    "]"
   ]
  },
  {
   "cell_type": "code",
   "execution_count": null,
   "id": "18ebeaca-eda1-4e9b-b0c0-dc2286288a7e",
   "metadata": {},
   "outputs": [],
   "source": [
    "pseudobulk"
   ]
  },
  {
   "cell_type": "code",
   "execution_count": null,
   "id": "d535646f-afae-4ee8-8295-6ba692aaf4ff",
   "metadata": {},
   "outputs": [],
   "source": [
    "for group, pdata in pseudobulk:\n",
    "    print(set(pdata.obs.cell_type_middle))"
   ]
  },
  {
   "cell_type": "code",
   "execution_count": null,
   "id": "3bde18cd-d0ab-4dbf-aa02-560833cd0979",
   "metadata": {},
   "outputs": [],
   "source": []
  },
  {
   "cell_type": "code",
   "execution_count": null,
   "id": "62060ef6-a190-47aa-8417-d535d67a8f81",
   "metadata": {},
   "outputs": [],
   "source": [
    "## Create count matrix and samplesheet for each sample_type: tumor & normal \n",
    "## Filter only for cell_type: Epithelial & Cancer cell \n",
    "for group, pdata in pseudobulk:\n",
    "    group = group.replace(\" \",\"_\")\n",
    "    if pdata.obs[\"sample_id\"].nunique() <= 5:\n",
    "        print(f\"Cell type {group} does not have samples in all groups\")\n",
    "        break\n",
    "    else:\n",
    "      # Reorder by adata.var (i.e. chromosome position) and reset index to get actual gene names (without appended suffix)\n",
    "     \n",
    "       # pdata = pdata[pdata.obs.cell_type.isin([\"Epithelial\",\"Cancer cell\"])]\n",
    "\n",
    "        pdata.var_names.name = \"gene_id\"\n",
    "\n",
    "        colData = pdata.obs\n",
    "        colData.index.name = \"sample_col\"\n",
    "\n",
    "        colData.to_csv(f\"{resDir}/epithelial_cancer/02_pseudobulk/{group}_colData.csv\")\n",
    "        rowData = pdata.var[[\"Geneid\", \"GeneSymbol\", \"Chromosome\", \"Class\", \"Length\"]]\n",
    "        rowData.to_csv(f\"{resDir}/epithelial_cancer/02_pseudobulk/{group}_rowData.csv\")\n",
    "        count_mat = pdata.to_df().T\n",
    "        count_mat.index.name = \"gene_id\"\n",
    "        count_mat.to_csv(f\"{resDir}/epithelial_cancer/02_pseudobulk/{group}_count_mat.csv\")\n"
   ]
  },
  {
   "cell_type": "code",
   "execution_count": null,
   "id": "843c17da-c3cf-4bc5-aac9-4275bacd1db1",
   "metadata": {},
   "outputs": [],
   "source": [
    "## Create count matrix and samplesheet for each sample_type: tumor & normal \n",
    "## Filter only for cell_type: Epithelial & Cancer cell \n",
    "for group, pdata in pseudobulk_c:\n",
    "    group = group.replace(\" \",\"_\")\n",
    "    if pdata.obs[\"sample_id\"].nunique() <= 5:\n",
    "        print(f\"Cell type {group} does not have samples in all groups\")\n",
    "        break\n",
    "    else:\n",
    "      # Reorder by adata.var (i.e. chromosome position) and reset index to get actual gene names (without appended suffix)\n",
    "     \n",
    "       # pdata = pdata[pdata.obs.cell_type.isin([\"Epithelial\",\"Cancer cell\"])]\n",
    "\n",
    "        pdata.var_names.name = \"gene_id\"\n",
    "\n",
    "        colData = pdata.obs\n",
    "        colData.index.name = \"sample_col\"\n",
    "\n",
    "        colData.to_csv(f\"{resDir}/epithelial_cancer/02_pseudobulk_c/{group}_colData.csv\")\n",
    "        rowData = pdata.var[[\"Geneid\", \"GeneSymbol\", \"Chromosome\", \"Class\", \"Length\"]]\n",
    "        rowData.to_csv(f\"{resDir}/epithelial_cancer/02_pseudobulk_c/{group}_rowData.csv\")\n",
    "        count_mat = pdata.to_df().T\n",
    "        count_mat.index.name = \"gene_id\"\n",
    "        count_mat.to_csv(f\"{resDir}/epithelial_cancer/02_pseudobulk_cpwd/{group}_count_mat.csv\")\n"
   ]
  },
  {
   "cell_type": "code",
   "execution_count": null,
   "id": "d4adbf6d-0702-4487-ae92-56143f34bb49",
   "metadata": {},
   "outputs": [],
   "source": [
    "# Merge count matrix to have Eptihelial & Cancer cell & sample type tumor & normal\n",
    "#df_tumor = pd.read_csv(os.path.join(resDir,'/epithelial_cancer/pseudobulk/', f\"{perturbation}_count_mat.csv\"))\n",
    "#df_normal = pd.read_csv(os.path.join(resDir,'/epithelial_cancer/pseudobulk/', f\"{baseline}_count_mat.csv\"))\n",
    "\n",
    "#df_normal_tumor = df_normal.merge(df_tumor, how='left', on='gene_id')\n",
    "\n",
    "\n",
    "## Merge samplesheet (colData)\n",
    "#col_normal = pd.read_csv(os.path.join(resDir,'/epithelial_cancer/pseudobulk/',  f\"{perturbation}_colData.csv\"))\n",
    "#col_tumor = pd.read_csv(os.path.join(resDir,'/epithelial_cancer/pseudobulk/',  f\"{perturbation}_tumor_colData.csv\"))\n",
    "#col_normal_tumor = pd.concat([col_normal, col_tumor])"
   ]
  },
  {
   "cell_type": "code",
   "execution_count": null,
   "id": "70e6b8ed-97b1-450d-b6c4-9d5f013a1048",
   "metadata": {},
   "outputs": [],
   "source": [
    "# Write into csv merged files for DESEQ2 comparison\n",
    "\n",
    "#col_normal_tumor.to_csv(f\"{resDir}/epithelial_cancer/pseudobulk/merged_colData.csv\")\n",
    "#df_normal_tumor.to_csv(f\"{resDir}/epithelial_cancer/pseudobulk/count_mat.csv\", index = False)"
   ]
  },
  {
   "cell_type": "code",
   "execution_count": null,
   "id": "572cc2ec-b448-423f-8d59-772e116c0514",
   "metadata": {},
   "outputs": [],
   "source": [
    "#Check if nan in count matrix \n",
    "#df_normal_tumor.isna().sum().sum()"
   ]
  },
  {
   "cell_type": "code",
   "execution_count": null,
   "id": "502eaf30-f98f-4231-a956-fd6f5fa03e7b",
   "metadata": {},
   "outputs": [],
   "source": [
    "#df_normal_tumor.shape"
   ]
  },
  {
   "cell_type": "markdown",
   "id": "fbe58983-c17e-4bd1-b7c2-973d9f0bb77c",
   "metadata": {},
   "source": [
    "## TUMOR vs NORMAL"
   ]
  },
  {
   "cell_type": "markdown",
   "id": "83ef846a-a7c5-4d57-adc3-ef8a1bd53def",
   "metadata": {},
   "source": [
    "DeSeq2 script: \"/data/scratch/kvalem/projects/2022/differential_gene_expression/bin/03_DESeq2_DGEA_studio.R\""
   ]
  },
  {
   "cell_type": "markdown",
   "id": "5a03108b-6809-4a0c-8339-705ac36f9c26",
   "metadata": {
    "tags": []
   },
   "source": [
    "### Parameters for DeSeq2 \n",
    "- input: colData, count_mat, rowData\n",
    "- covariate_formula = \"patient_id +\"\n",
    "- sample_col=\"sample_col\" \n",
    "- cond_col=\"sample_type\"\n",
    "- sum2zero=FALSE \n",
    "- c1=\"tumor\" \n",
    "- c2=\"normal\"\n",
    "- cpus=8"
   ]
  },
  {
   "cell_type": "code",
   "execution_count": null,
   "id": "e03991bf-4eae-4027-94a0-98e020ca4a5a",
   "metadata": {},
   "outputs": [],
   "source": [
    "# DESEQ2 output path \n",
    "deseq2_path_prefix = \"/data/projects/2022/CRCA/results/v1/final/liana_cell2cell/core_atlas/tumor_normal/epithelial_cancer/03_deseq2/\""
   ]
  },
  {
   "cell_type": "code",
   "execution_count": null,
   "id": "158845ff-d8d4-4d5e-a89e-c60679b43b32",
   "metadata": {},
   "outputs": [],
   "source": [
    "file_name_deseq2_out = \"Cancer_Epithelial_tumor_vs_normal_DESeq2_result.tsv\""
   ]
  },
  {
   "cell_type": "code",
   "execution_count": null,
   "id": "7eded07e-3c03-4016-8ae2-a0851af20f8d",
   "metadata": {},
   "outputs": [],
   "source": [
    "de_res = (\n",
    "    pd.read_csv(f\"{deseq2_path_prefix}/{file_name_deseq2_out}\",\n",
    "        sep=\"\\t\",\n",
    "    )\n",
    "    .fillna(1)\n",
    "    .pipe(fdr_correction)\n",
    "    .rename(columns={\"comparison\": \"group\"})\n",
    ")"
   ]
  },
  {
   "cell_type": "markdown",
   "id": "3f1e911b-0819-41c9-ad8e-e7a609ce16ff",
   "metadata": {},
   "source": [
    "## LIANA- rank agregate"
   ]
  },
  {
   "cell_type": "markdown",
   "id": "d59be0e9-f59c-456e-8fd1-6be1ca08a2c7",
   "metadata": {},
   "source": [
    "### NEUTROPHILS"
   ]
  },
  {
   "cell_type": "code",
   "execution_count": null,
   "id": "2d60cd93-1c1e-4aee-8b3d-8995b90e0e15",
   "metadata": {},
   "outputs": [],
   "source": [
    "# Run rank_aggregate for neutrophil\n",
    "#li.mt.rank_aggregate(adata_n, groupby='cell_type', expr_prop=0.1,resource_name='consensus',  verbose=True,key_added='rank_aggregate', layer = \"log1p_norm\", use_raw = False)"
   ]
  },
  {
   "cell_type": "code",
   "execution_count": null,
   "id": "2bc8e5d4-5ba2-4e25-9e26-3794b58c9756",
   "metadata": {},
   "outputs": [],
   "source": [
    "#adata.write_h5ad(\"/data/projects/2022/CRCA/results/v0.1/crc-atlas-dataset/latest/ds_analyses/liana_cell2cell/neutrophil_subclusters/adata_rank_agregate_neutrophil.h5ad\")"
   ]
  },
  {
   "cell_type": "code",
   "execution_count": null,
   "id": "700d4f66-3684-49ff-ba76-f44b01dde908",
   "metadata": {},
   "outputs": [],
   "source": [
    "# rank agregate for neutrophils\n",
    "#adata_n = sc.read_h5ad(f\"/data/projects/2022/CRCA/results/v0.1/crc-atlas-dataset/latest/ds_analyses/liana_cell2cell/neutrophil_subclusters/adata_rank_agregate_neutrophil.h5ad\") "
   ]
  },
  {
   "cell_type": "markdown",
   "id": "03446b2f-9e80-4f06-974a-eeed9f0a82b0",
   "metadata": {},
   "source": [
    "###  CORE ATLAS "
   ]
  },
  {
   "cell_type": "code",
   "execution_count": 3,
   "id": "76075522-2078-42cf-8cbd-21d80f829223",
   "metadata": {},
   "outputs": [],
   "source": [
    "adata = sc.read_h5ad(\"/data/projects/2022/CRCA/results/v1/final/h5ads/paired_tumor-adata.h5ad\")"
   ]
  },
  {
   "cell_type": "code",
   "execution_count": 4,
   "id": "d33586ee-87be-4108-bc30-a53da8570059",
   "metadata": {},
   "outputs": [
    {
     "data": {
      "text/plain": [
       "AnnData object with n_obs × n_vars = 1509130 × 28476\n",
       "    obs: 'dataset', 'medical_condition', 'cancer_type', 'sample_id', 'sample_type', 'tumor_source', 'replicate', 'sample_tissue', 'anatomic_region', 'anatomic_location', 'tumor_stage', 'tumor_stage_TNM', 'tumor_stage_TNM_T', 'tumor_stage_TNM_N', 'tumor_stage_TNM_M', 'tumor_size', 'tumor_dimensions', 'tumor_grade', 'histological_type', 'microsatellite_status', 'mismatch_repair_deficiency_status', 'MLH1_promoter_methylation_status', 'MLH1_status', 'KRAS_status', 'BRAF_status', 'APC_status', 'TP53_status', 'PIK3CA_status', 'SMAD4_status', 'NRAS_status', 'MSH6_status', 'FBXW7_status', 'NOTCH1_status', 'MSH2_status', 'PMS2_status', 'POLE_status', 'ERBB2_status', 'STK11_status', 'HER2_status', 'CTNNB1_status', 'BRAS_status', 'patient_id', 'sex', 'age', 'ethnicity', 'treatment_status_before_resection', 'treatment_drug', 'treatment_response', 'RECIST', 'platform', 'platform_fine', 'cellranger_version', 'reference_genome', 'matrix_type', 'enrichment_cell_types', 'tissue_cell_state', 'tissue_dissociation', 'tissue_processing_lab', 'hospital_location', 'country', 'NCBI_BioProject_accession', 'SRA_sample_accession', 'GEO_sample_accession', 'ENA_sample_accession', 'synapse_sample_accession', 'study_id', 'study_doi', 'study_pmid', 'original_obs_names', 'cell_type_coarse_study', 'cell_type_middle_study', 'cell_type_study', 'n_counts', 'n_genes', 'n_genes_by_counts', 'total_counts', 'pct_counts_in_top_20_genes', 'pct_counts_mito', 'S_score', 'G2M_score', 'phase', 'SOLO_doublet_prob', 'SOLO_singlet_prob', 'SOLO_doublet_status', 'cell_type_predicted', 'cell_type_coarse', 'cell_type_middle', 'cell_type_fine'\n",
       "    var: 'var_names', 'ensembl', 'Geneid', 'GeneSymbol', 'Chromosome', 'Start', 'End', 'Class', 'Strand', 'Length', 'Version', 'Dataset_25pct_Overlap', 'n_cells', 'n_counts', 'n_cells_by_counts', 'mean_counts', 'total_counts', 'highly_variable'\n",
       "    obsm: 'X_scANVI', 'X_scVI', 'X_umap'\n",
       "    layers: 'counts'"
      ]
     },
     "execution_count": 4,
     "metadata": {},
     "output_type": "execute_result"
    }
   ],
   "source": [
    "adata"
   ]
  },
  {
   "cell_type": "code",
   "execution_count": 5,
   "id": "92b49536-497f-48eb-97b5-06f96c08c320",
   "metadata": {},
   "outputs": [
    {
     "data": {
      "text/plain": [
       "{'B cell activated',\n",
       " 'B cell memory',\n",
       " 'B cell naive',\n",
       " 'CD4',\n",
       " 'CD4 cycling',\n",
       " 'CD8',\n",
       " 'CD8 cycling',\n",
       " 'DC mature',\n",
       " 'DC3',\n",
       " 'Endothelial arterial',\n",
       " 'Endothelial lymphatic',\n",
       " 'Endothelial venous',\n",
       " 'Enteroendocrine',\n",
       " 'Epithelial',\n",
       " 'Fibroblast S1',\n",
       " 'Fibroblast S2',\n",
       " 'Fibroblast S3',\n",
       " 'GC B cell',\n",
       " 'Goblet',\n",
       " 'ILC',\n",
       " 'Macrophage',\n",
       " 'Macrophage cycling',\n",
       " 'Mast cell',\n",
       " 'Monocyte',\n",
       " 'NK',\n",
       " 'NKT',\n",
       " 'Neutrophil',\n",
       " 'Pericyte',\n",
       " 'Plasma IgA',\n",
       " 'Plasma IgG',\n",
       " 'Plasma IgM',\n",
       " 'Plasmablast',\n",
       " 'Schwann cell',\n",
       " 'Treg',\n",
       " 'Tuft',\n",
       " 'cDC progenitor',\n",
       " 'cDC1',\n",
       " 'cDC2',\n",
       " 'gamma-delta',\n",
       " 'pDC'}"
      ]
     },
     "execution_count": 5,
     "metadata": {},
     "output_type": "execute_result"
    }
   ],
   "source": [
    "set(adata.obs.cell_type_fine)"
   ]
  },
  {
   "cell_type": "code",
   "execution_count": 6,
   "id": "d23b1809-469a-42f0-aa77-f3a6f90e3bd9",
   "metadata": {},
   "outputs": [],
   "source": [
    "adata.layers[\"log1p_norm\"] = adata.X.copy()\n",
    "sc.pp.normalize_total(adata, target_sum=1e6, layer=\"log1p_norm\")\n",
    "sc.pp.log1p(adata, base=6, layer=\"log1p_norm\")"
   ]
  },
  {
   "cell_type": "code",
   "execution_count": null,
   "id": "cb28f947-38f1-4c1a-ad5c-43264fc4f5d7",
   "metadata": {},
   "outputs": [
    {
     "name": "stderr",
     "output_type": "stream",
     "text": [
      "Using the `log1p_norm` layer!\n",
      "/home/kvalem/.local/lib/python3.11/site-packages/anndata/_core/anndata.py:430: FutureWarning: The dtype argument is deprecated and will be removed in late 2024.\n",
      "576 features of mat are empty, they will be removed.\n",
      "/home/kvalem/.conda/envs/liana_2024/lib/python3.11/site-packages/liana/method/_pipe_utils/_pre.py:148: ImplicitModificationWarning: Trying to modify attribute `.obs` of view, initializing view as actual.\n",
      "/home/kvalem/.conda/envs/liana_2024/lib/python3.11/site-packages/liana/method/_pipe_utils/_pre.py:151: FutureWarning: The default of observed=False is deprecated and will be changed to True in a future version of pandas. Pass observed=False to retain current behavior or observed=True to adopt the future default and silence this warning.\n",
      "['5_8S_rRNA-1', '5_8S_rRNA-4', '5_8S_rRNA-6', '5S_rRNA-5', '5_8S_rRNA-8'] contain `_`. Consider replacing those!\n",
      "Using resource `consensus`.\n",
      "0.00 of entities in the resource are missing from the data.\n"
     ]
    },
    {
     "name": "stdout",
     "output_type": "stream",
     "text": [
      "Generating ligand-receptor stats for 1509130 samples and 27900 features\n"
     ]
    },
    {
     "name": "stderr",
     "output_type": "stream",
     "text": [
      "/home/kvalem/.conda/envs/liana_2024/lib/python3.11/site-packages/liana/method/sc/_liana_pipe.py:251: ImplicitModificationWarning: Setting element `.layers['scaled']` of view, initializing view as actual.\n"
     ]
    },
    {
     "name": "stdout",
     "output_type": "stream",
     "text": [
      "Assuming that counts were `natural` log-normalized!\n",
      "Running CellPhoneDB\n"
     ]
    },
    {
     "name": "stderr",
     "output_type": "stream",
     "text": [
      "100%|██████████| 1000/1000 [38:18<00:00,  2.30s/it]\n"
     ]
    },
    {
     "name": "stdout",
     "output_type": "stream",
     "text": [
      "Running Connectome\n",
      "Running log2FC\n",
      "Running NATMI\n",
      "Running SingleCellSignalR\n",
      "Running CellChat\n"
     ]
    },
    {
     "name": "stderr",
     "output_type": "stream",
     "text": [
      " 52%|█████▏    | 519/1000 [6:56:13<6:25:07, 48.04s/it] "
     ]
    }
   ],
   "source": [
    "# Run rank_aggregate\n",
    "li.mt.rank_aggregate(adata, groupby='cell_type_fine', expr_prop=0.1,resource_name='consensus',  verbose=True,key_added='rank_aggregate', layer = \"log1p_norm\", use_raw = False)"
   ]
  },
  {
   "cell_type": "code",
   "execution_count": null,
   "id": "7af21827-dd32-4dc9-ad60-c6cee495e2d0",
   "metadata": {},
   "outputs": [],
   "source": [
    "#adata.write_h5ad(\"adata_rank_agregate.h5ad\")"
   ]
  },
  {
   "cell_type": "code",
   "execution_count": null,
   "id": "6235e84d-dba1-40e4-805a-8aab232e72f1",
   "metadata": {},
   "outputs": [],
   "source": [
    "# rank agregate for core atlas \n",
    "#adata = sc.read_h5ad(f\"adata_rank_agregate.h5ad\") "
   ]
  },
  {
   "cell_type": "code",
   "execution_count": null,
   "id": "591e3969-98dd-4046-8222-f146b2820ae4",
   "metadata": {},
   "outputs": [],
   "source": [
    "cell_type_oi = \"Cancer cell\"\n",
    "n_top_ligands = 30"
   ]
  },
  {
   "cell_type": "code",
   "execution_count": null,
   "id": "87d95e30-0bb0-4be8-b8ff-aa167453773f",
   "metadata": {},
   "outputs": [],
   "source": [
    "immune_cells_fine = ['B cell activated',\n",
    " 'B cell memory',\n",
    " 'B cell naive',\n",
    " 'CD4',\n",
    " 'CD4 cycling',\n",
    " 'CD8',\n",
    " 'CD8 cycling',\n",
    " 'DC mature',\n",
    " 'DC3',\n",
    " 'Endothelial arterial',\n",
    " 'Endothelial lymphatic',\n",
    " 'Endothelial venous',\n",
    " 'Enteroendocrine',\n",
    " 'Epithelial',\n",
    " 'Fibroblast S1',\n",
    " 'Fibroblast S2',\n",
    " 'Fibroblast S3',\n",
    " 'GC B cell',\n",
    " 'Goblet',\n",
    " 'ILC',\n",
    " 'Macrophage',\n",
    " 'Macrophage cycling',\n",
    " 'Mast cell',\n",
    " 'Monocyte',\n",
    " 'NK',\n",
    " 'NKT',\n",
    " 'Neutrophil',\n",
    " 'Pericyte',\n",
    " 'Plasma IgA',\n",
    " 'Plasma IgG',\n",
    " 'Plasma IgM',\n",
    " 'Plasmablast',\n",
    " 'Schwann cell',\n",
    " 'Treg',\n",
    " 'Tuft',\n",
    " 'cDC progenitor',\n",
    " 'cDC1',\n",
    " 'cDC2',\n",
    " 'gamma-delta',\n",
    " 'pDC']"
   ]
  },
  {
   "cell_type": "code",
   "execution_count": null,
   "id": "4896ee2f-0898-4fb9-9d8e-3d7def9e3b51",
   "metadata": {},
   "outputs": [],
   "source": [
    "immune_cells =['B cell',\n",
    " 'DC mature',\n",
    " 'Macrophage',\n",
    " 'Mast cell',\n",
    " 'Monocyte',\n",
    " 'NK',\n",
    " 'Neutrophil',\n",
    " 'Plasma cell',\n",
    " 'T cell CD4',\n",
    " 'T cell CD8',\n",
    " 'T cell regulatory',\n",
    " 'cDC',\n",
    " 'pDC']"
   ]
  },
  {
   "cell_type": "code",
   "execution_count": null,
   "id": "9c60f52e-1ffe-434b-a71c-84178771a344",
   "metadata": {},
   "outputs": [],
   "source": [
    "immune_cells_cancer =['Cancer cell','B cell','Endothelial',\n",
    " 'DC mature',\n",
    " 'Macrophage',\n",
    " 'Mast cell',\n",
    " 'Monocyte',\n",
    " 'NK',\n",
    " 'Neutrophil',\n",
    " 'Plasma cell',\n",
    " 'T cell CD4',\n",
    " 'T cell CD8',\n",
    " 'T cell regulatory',\n",
    " 'cDC',\n",
    " 'pDC']"
   ]
  },
  {
   "cell_type": "code",
   "execution_count": null,
   "id": "a87a2d1e-f8de-4702-9a69-fd581b2e7187",
   "metadata": {},
   "outputs": [],
   "source": [
    "#result of `significant_interactions`. May be further filtered or modified.\n",
    "cpdb_res = adata.uns['rank_aggregate'].loc[\n",
    "        lambda x: x[\"specificity_rank\"] <= 0.01\n",
    "    ]"
   ]
  },
  {
   "cell_type": "code",
   "execution_count": null,
   "id": "7042c564-b5f5-4307-a0fa-a96faab3631b",
   "metadata": {},
   "outputs": [],
   "source": [
    "# rename columns in liana results \n",
    "cpdb_res=cpdb_res.rename(columns={\"ligand_complex\":\"source_genesymbol\",\"receptor_complex\":\"target_genesymbol\"})"
   ]
  },
  {
   "cell_type": "code",
   "execution_count": null,
   "id": "395f55a2-e8c7-40b1-b057-36bd645ab64d",
   "metadata": {},
   "outputs": [],
   "source": [
    "cpdb_res.columns"
   ]
  },
  {
   "cell_type": "code",
   "execution_count": null,
   "id": "af0a6518-d9ea-4aa1-8ef1-e4b16e737df1",
   "metadata": {},
   "outputs": [],
   "source": [
    "# use scanpy helper class CpdbAnalysis to compute pseudobulk, cell fraction and \n",
    "cpdba = CpdbAnalysis(\n",
    "    cpdb_res,\n",
    "    adata,\n",
    "    pseudobulk_group_by=[\"patient_id\"],\n",
    "    cell_type_column=\"cell_type_fine\"\n",
    ")"
   ]
  },
  {
   "cell_type": "code",
   "execution_count": null,
   "id": "204c801c-da48-4fca-b640-a4ff367665c3",
   "metadata": {},
   "outputs": [],
   "source": [
    "cpdba"
   ]
  },
  {
   "cell_type": "code",
   "execution_count": null,
   "id": "036c6591-8f9a-43cf-8596-76d27b689047",
   "metadata": {},
   "outputs": [],
   "source": [
    "cpdb_sig_int = cpdba.significant_interactions(\n",
    "    de_res, max_pvalue=0.1\n",
    ")"
   ]
  },
  {
   "cell_type": "code",
   "execution_count": null,
   "id": "5f7c725b-1b7b-40ad-b34e-11ee891b04d5",
   "metadata": {},
   "outputs": [],
   "source": [
    "## This is input for CIRCOS PLOT \n",
    "cpdb_sig_int.to_csv(\"epithelial_cancer.csv\")"
   ]
  },
  {
   "cell_type": "code",
   "execution_count": null,
   "id": "be183fc7-b444-4206-a323-6a81dba5aa84",
   "metadata": {},
   "outputs": [],
   "source": [
    "set(cpdb_sig_int.immune_cells_fine)"
   ]
  },
  {
   "cell_type": "code",
   "execution_count": null,
   "id": "c838787e-0b6f-4b8c-a008-741f29c3d03d",
   "metadata": {},
   "outputs": [],
   "source": [
    "cpdb_sig_int = cpdb_sig_int.loc[lambda x: x[\"cell_type_fine\"].isin(immune_cells_fine)]"
   ]
  },
  {
   "cell_type": "code",
   "execution_count": null,
   "id": "90eaa4f2-7167-4503-9c0a-dcb9f1fcc73b",
   "metadata": {},
   "outputs": [],
   "source": [
    "top_genes = (\n",
    "    cpdb_sig_int.loc[:, [\"source_genesymbol\", \"fdr\"]]\n",
    "    .drop_duplicates()\n",
    "    .sort_values(\"fdr\")[\"source_genesymbol\"][:30]\n",
    "    .tolist()\n",
    ")"
   ]
  },
  {
   "cell_type": "code",
   "execution_count": null,
   "id": "d88da9c6-3a2f-484f-9a0b-a8ee7094eb9f",
   "metadata": {},
   "outputs": [],
   "source": [
    "title_plot = f\"{perturbation} vs {baseline}: {cell_type_oi}, FDR<0.1\""
   ]
  },
  {
   "cell_type": "code",
   "execution_count": null,
   "id": "a848c75f-3100-4d37-9142-48d3dc09d4fd",
   "metadata": {},
   "outputs": [],
   "source": [
    "save_name_plot =  f\"{perturbation}_vs_{baseline}_{cell_type_oi}_fdr_0.1\""
   ]
  },
  {
   "cell_type": "code",
   "execution_count": null,
   "id": "92129ce4-bd06-42ef-86e1-bf240e3d6444",
   "metadata": {},
   "outputs": [],
   "source": [
    "heatmap = cpdba.plot_result(\n",
    "    cpdb_sig_int.loc[lambda x: x[\"source_genesymbol\"].isin(top_genes)],\n",
    "    title=title_plot,\n",
    "    aggregate=False,\n",
    "    cluster=\"heatmap\",\n",
    "    label_limit=110,\n",
    ")\n",
    "heatmap"
   ]
  },
  {
   "cell_type": "code",
   "execution_count": null,
   "id": "4d35e349-8ccc-46c6-8c7d-08f166306a56",
   "metadata": {},
   "outputs": [],
   "source": [
    "heatmap.save(f'{resDir}/figures/{save_name_plot}.png')\n",
    "heatmap.save(f'{resDir}/figures/{save_name_plot}.svg')\n",
    "heatmap.save(f'{resDir}/figures/{save_name_plot}.pdf')"
   ]
  },
  {
   "cell_type": "markdown",
   "id": "43031bef-ad85-4e72-9376-fa73072ffb86",
   "metadata": {},
   "source": [
    "## CIRCOS PLOT "
   ]
  },
  {
   "cell_type": "markdown",
   "id": "49dece12-fc80-491e-85f7-e6a1216afd65",
   "metadata": {},
   "source": [
    "## This is input for CIRCOS PLOT \n",
    "input = \"/data/projects/2022/CRCA/results/v0.1/crc-atlas-dataset/latest/ds_analyses/liana_cell2cell/core_atlas/tumor_normal/epithelial_cancer.csv\""
   ]
  },
  {
   "cell_type": "markdown",
   "id": "7ec3046c-01a7-467e-b35f-39dc02cac5df",
   "metadata": {},
   "source": [
    "Circosp plot script  \"/data/scratch/kvalem//projects/2022/crc-atlas/analyses/05_Liana/circosplot.Rmd\""
   ]
  },
  {
   "cell_type": "code",
   "execution_count": null,
   "id": "0e56e4b5-9c05-4da5-9689-ff5ab2f7184c",
   "metadata": {},
   "outputs": [],
   "source": [
    "resDir"
   ]
  },
  {
   "cell_type": "code",
   "execution_count": null,
   "id": "06b338e9-797d-46f4-b9c2-c1781e9dd9b2",
   "metadata": {},
   "outputs": [],
   "source": []
  },
  {
   "cell_type": "code",
   "execution_count": null,
   "id": "0ff57141-3346-4cea-817e-a63d3910e1c9",
   "metadata": {},
   "outputs": [],
   "source": []
  },
  {
   "cell_type": "markdown",
   "id": "a7d097d2-cc90-4b80-bd04-ebd66a455742",
   "metadata": {},
   "source": [
    "# Functions"
   ]
  },
  {
   "cell_type": "code",
   "execution_count": null,
   "id": "d0061e5d-eefb-4c93-b41f-c58964809b96",
   "metadata": {},
   "outputs": [],
   "source": [
    "def fdr_correction(df, pvalue_col=\"pvalue\", *, key_added=\"fdr\", inplace=False):\n",
    "    \"\"\"Adjust p-values in a data frame with test results using FDR correction.\"\"\"\n",
    "    if not inplace:\n",
    "        df = df.copy()\n",
    "\n",
    "    df[key_added] = statsmodels.stats.multitest.fdrcorrection(df[pvalue_col].values)[1]\n",
    "\n",
    "    if not inplace:\n",
    "        return df"
   ]
  },
  {
   "cell_type": "code",
   "execution_count": null,
   "id": "8cab1b3e-26ae-4ce1-9db1-7657b37931ab",
   "metadata": {},
   "outputs": [],
   "source": [
    "\"\"\"Plotting functions for group comparisons\"\"\"\n",
    "\n",
    "import altair as alt\n",
    "import pandas as pd\n",
    "import numpy as np\n",
    "\n",
    "\n",
    "def plot_lm_result_altair(\n",
    "    df,\n",
    "    p_cutoff=0.1,\n",
    "    p_col=\"fdr\",\n",
    "    x=\"variable\",\n",
    "    y=\"group\",\n",
    "    color=\"coef\",\n",
    "    title=\"heatmap\",\n",
    "    cluster=False,\n",
    "    value_max=None,\n",
    "    configure=lambda x: x.configure_mark(opacity=1),\n",
    "    cmap=\"redblue\",\n",
    "    reverse=True,\n",
    "    domain=lambda x: [-x, x],\n",
    "    order=None,\n",
    "):\n",
    "    \"\"\"\n",
    "    Plot a results data frame of a comparison as a heatmap\n",
    "    \"\"\"\n",
    "    df_filtered = df.loc[lambda _: _[p_col] < p_cutoff, :]\n",
    "    df_subset = df.loc[\n",
    "        lambda _: _[x].isin(df_filtered[x].unique()) & _[y].isin(df[y].unique())\n",
    "    ]\n",
    "    if not df_subset.shape[0]:\n",
    "        print(\"No values to plot\")\n",
    "        return\n",
    "\n",
    "    if order is None:\n",
    "        order = \"ascending\"\n",
    "        if cluster:\n",
    "            from scipy.cluster.hierarchy import linkage, leaves_list\n",
    "\n",
    "            values_df = df_subset.pivot(index=y, columns=x, values=color)\n",
    "            order = values_df.columns.values[\n",
    "                leaves_list(\n",
    "                    linkage(values_df.values.T, method=\"average\", metric=\"euclidean\")\n",
    "                )\n",
    "            ]\n",
    "\n",
    "    def _get_significance(fdr):\n",
    "        if fdr < 0.001:\n",
    "            return \"< 0.001\"\n",
    "        elif fdr < 0.01:\n",
    "            return \"< 0.01\"\n",
    "        elif fdr < 0.1:\n",
    "            return \"< 0.1\"\n",
    "        else:\n",
    "            return np.nan\n",
    "\n",
    "    df_subset[\"FDR\"] = pd.Categorical([_get_significance(x) for x in df_subset[p_col]])\n",
    "\n",
    "    if value_max is None:\n",
    "        value_max = max(\n",
    "            abs(np.nanmin(df_subset[color])), abs(np.nanmax(df_subset[color]))\n",
    "        )\n",
    "    # just setting the domain in altair will lead to \"black\" fields. Therefore, we constrain the values themselves.\n",
    "    df_subset[color] = np.clip(df_subset[color], *domain(value_max))\n",
    "    return configure(\n",
    "        alt.Chart(df_subset, title=title)\n",
    "        .mark_rect()\n",
    "        .encode(\n",
    "            x=alt.X(x, sort=order),\n",
    "            y=y,\n",
    "            color=alt.Color(\n",
    "                color,\n",
    "                scale=alt.Scale(scheme=cmap, reverse=reverse, domain=domain(value_max)),\n",
    "            ),\n",
    "        )\n",
    "        + alt.Chart(df_subset.loc[lambda x: ~x[\"FDR\"].isnull()])\n",
    "        .mark_point(color=\"white\", filled=True, stroke=\"black\", strokeWidth=0)\n",
    "        .encode(\n",
    "            x=alt.X(x, sort=order),\n",
    "            y=y,\n",
    "            size=alt.Size(\n",
    "                \"FDR:N\",\n",
    "                scale=alt.Scale(\n",
    "                    domain=[\"< 0.001\", \"< 0.01\", \"< 0.1\"],\n",
    "                    range=4 ** np.array([3, 2, 1]),\n",
    "                ),\n",
    "            ),\n",
    "        )\n",
    "    )"
   ]
  },
  {
   "cell_type": "code",
   "execution_count": null,
   "id": "c06780b5-7e2a-4e4b-b2f6-cf2849ac0db7",
   "metadata": {},
   "outputs": [],
   "source": [
    "from typing import Sequence, Union\n",
    "from anndata import AnnData, ImplicitModificationWarning\n",
    "import numpy as np\n",
    "import pandas as pd\n",
    "from operator import and_\n",
    "from functools import reduce\n",
    "import warnings\n",
    "\n",
    "\n",
    "def pseudobulk(\n",
    "    adata,\n",
    "    *,\n",
    "    groupby: Union[str, Sequence[str]],\n",
    "    aggr_fun=np.sum,\n",
    "    min_obs=10,\n",
    ") -> AnnData:\n",
    "    \"\"\"\n",
    "    Calculate Pseudobulk of groups\n",
    "\n",
    "    Parameters\n",
    "    ----------\n",
    "    adata\n",
    "        annotated data matrix\n",
    "    groupby\n",
    "        One or multiple columns to group by\n",
    "    aggr_fun\n",
    "        Callback function to calculate pseudobulk. Must be a numpy ufunc supporting\n",
    "        the `axis` attribute.\n",
    "    min_obs\n",
    "        Exclude groups with less than `min_obs` observations\n",
    "\n",
    "    Returns\n",
    "    -------\n",
    "    New anndata object with same vars as input, but reduced number of obs.\n",
    "    \"\"\"\n",
    "    if isinstance(groupby, str):\n",
    "        groupby = [groupby]\n",
    "\n",
    "    combinations = adata.obs.loc[:, groupby].drop_duplicates()\n",
    "\n",
    "    if adata.is_view:\n",
    "        # for whatever reason, the pseudobulk function is terribly slow when operating on a view.\n",
    "        adata = adata.copy()\n",
    "\n",
    "    # precompute masks\n",
    "    masks = {}\n",
    "    for col in groupby:\n",
    "        masks[col] = {}\n",
    "        for val in combinations[col].unique():\n",
    "            masks[col][val] = adata.obs[col] == val\n",
    "\n",
    "    expr_agg = []\n",
    "    obs = []\n",
    "\n",
    "    for comb in combinations.itertuples(index=False):\n",
    "        mask = reduce(and_, (masks[col][val] for col, val in zip(groupby, comb)))\n",
    "        if np.sum(mask) < min_obs:\n",
    "            continue\n",
    "        expr_row = aggr_fun(adata.X[mask, :], axis=0)\n",
    "        obs_row = comb._asdict()\n",
    "        obs_row[\"n_obs\"] = np.sum(mask)\n",
    "        # convert matrix to array if required (happens when aggregating spares matrix)\n",
    "        try:\n",
    "            expr_row = expr_row.A1\n",
    "        except AttributeError:\n",
    "            pass\n",
    "        obs.append(obs_row)\n",
    "        expr_agg.append(expr_row)\n",
    "\n",
    "    with warnings.catch_warnings():\n",
    "        warnings.simplefilter(\"ignore\", ImplicitModificationWarning)\n",
    "        return AnnData(\n",
    "            X=np.vstack(expr_agg),\n",
    "            var=adata.var,\n",
    "            obs=pd.DataFrame.from_records(obs),\n",
    "        )"
   ]
  },
  {
   "cell_type": "code",
   "execution_count": null,
   "id": "198fb7a4-b7d9-41a8-99c8-dd6a94b49114",
   "metadata": {},
   "outputs": [],
   "source": [
    "\"\"\"Helper functions for cellphonedb analysis\n",
    "\n",
    "Focuses on differential cellphonedb analysis between conditions.\n",
    "\"\"\"\n",
    "from typing import List, Literal\n",
    "import pandas as pd\n",
    "#from .pseudobulk import pseudobulk\n",
    "import numpy as np\n",
    "import scanpy as sc\n",
    "import altair as alt\n",
    "#from .compare_groups.pl import plot_lm_result_altair\n",
    "#from .util import fdr_correction\n",
    "\n",
    "\n",
    "class CpdbAnalysis:\n",
    "    def __init__(\n",
    "        self, cpdb, adata, *, pseudobulk_group_by: List[str], cell_type_column: str\n",
    "    ):\n",
    "        \"\"\"\n",
    "        Class that handles comparative cellphonedb analysis.\n",
    "\n",
    "        Parameters\n",
    "        ----------\n",
    "        cpdb\n",
    "            pandas data frame with cellphonedb interactions.\n",
    "            Required columns: `source_genesymbols`, `target_genesymbol`.\n",
    "            You can get this from omnipathdb:\n",
    "            https://omnipathdb.org/interactions/?fields=sources,references&genesymbols=1&databases=CellPhoneDB\n",
    "        adata\n",
    "            Anndata object with the target cells. Will use this to derive mean fraction of expressed cells.\n",
    "            Should contain counts in X.\n",
    "        pseudobulk_group_by\n",
    "            See :func:`scanpy_helper.pseudobulk.pseudobulk`. Pseudobulk is used to compute the mean fraction\n",
    "            of expressed cells by patient\n",
    "        cell_type_column\n",
    "            Column in anndata that contains the cell-type annotation.\n",
    "        \"\"\"\n",
    "        self.cpdb = cpdb\n",
    "        self.cell_type_column = cell_type_column\n",
    "        self._find_expressed_genes(adata, pseudobulk_group_by)\n",
    "\n",
    "    def _find_expressed_genes(self, adata, pseudobulk_group_by):\n",
    "        \"\"\"Compute the mean expression and fraction of expressed cells per cell-type.\n",
    "        This is performed on the pseudobulk level, i..e. the mean of means per patient is calculated.\n",
    "        \"\"\"\n",
    "        pb_fracs = pseudobulk(\n",
    "            adata,\n",
    "            groupby=pseudobulk_group_by + [self.cell_type_column],\n",
    "            aggr_fun=lambda x, axis: np.sum(x > 0, axis) / x.shape[axis],  # type: ignore\n",
    "        )\n",
    "        fractions_expressed = pseudobulk(\n",
    "            pb_fracs, groupby=self.cell_type_column, aggr_fun=np.mean\n",
    "        )\n",
    "        fractions_expressed.obs.set_index(self.cell_type_column, inplace=True)\n",
    "\n",
    "        pb = pseudobulk(\n",
    "            adata,\n",
    "            groupby=pseudobulk_group_by + [self.cell_type_column],\n",
    "        )\n",
    "        sc.pp.normalize_total(pb, target_sum=1e6)\n",
    "        sc.pp.log1p(pb)\n",
    "        pb_mean_cell_type = pseudobulk(\n",
    "            pb, groupby=self.cell_type_column, aggr_fun=np.mean\n",
    "        )\n",
    "        pb_mean_cell_type.obs.set_index(self.cell_type_column, inplace=True)\n",
    "\n",
    "        self.expressed_genes = (\n",
    "            fractions_expressed.to_df()\n",
    "            .melt(ignore_index=False, value_name=\"fraction_expressed\")\n",
    "            .reset_index()\n",
    "            .merge(\n",
    "                pb_mean_cell_type.to_df()\n",
    "                .melt(ignore_index=False, value_name=\"expr_mean\")\n",
    "                .reset_index(),\n",
    "                on=[self.cell_type_column, \"variable\"],\n",
    "            )\n",
    "        )\n",
    "\n",
    "    def significant_interactions(\n",
    "        self,\n",
    "        de_res: pd.DataFrame,\n",
    "        *,\n",
    "        pvalue_col=\"pvalue\",\n",
    "        fc_col=\"log2FoldChange\",\n",
    "        gene_symbol_col=\"gene_id\",\n",
    "        max_pvalue=0.1,\n",
    "        min_abs_fc=1,\n",
    "        adjust_fdr=True,\n",
    "        min_frac_expressed=0.1,\n",
    "        de_genes_mode: Literal[\"ligand\", \"receptor\"] = \"ligand\",\n",
    "    ) -> pd.DataFrame:\n",
    "        \"\"\"\n",
    "        Generates a data frame of differentiall cellphonedb interactions.\n",
    "\n",
    "        This function will extract all known ligands (or receptors, respectively) from a list of differentially expressed\n",
    "        and find all receptors (or ligands, respectively) that are expressed above a certain cutoff in all cell-types.\n",
    "\n",
    "        Parameters:\n",
    "        -----------\n",
    "        de_res\n",
    "            List of differentially expressed genes\n",
    "        pvalue_col\n",
    "            column in de_res that contains the pvalue or false discovery rate\n",
    "        gene_id_col\n",
    "            column in de_res that contains the gene symbol\n",
    "        min_frac_expressed\n",
    "            Minimum fraction cells that need to express the receptor (or ligand) to be considered a potential interaction\n",
    "        de_genes_mode\n",
    "            If the list of de genes provided are ligands (default) or receptors. In case of `ligand`, cell-types\n",
    "            that express corresonding receptors above the threshold will be identified. In case of `receptor`,\n",
    "            cell-types that express corresponding ligands above the threshold will be identified.\n",
    "        adjust_fdr\n",
    "            If True, calculate false discovery rate on the pvalue, after filtering for genes that are contained\n",
    "            in the cellphonedb.\n",
    "        \"\"\"\n",
    "        if de_genes_mode == \"ligand\":\n",
    "            cpdb_de_col = \"source_genesymbol\"\n",
    "            cpdb_expr_col = \"target_genesymbol\"\n",
    "        elif de_genes_mode == \"receptor\":\n",
    "            cpdb_de_col = \"target_genesymbol\"\n",
    "            cpdb_expr_col = \"source_genesymbol\"\n",
    "        else:\n",
    "            raise ValueError(\"Invalud value for de_genes_mode!\")\n",
    "\n",
    "        de_res = de_res.loc[lambda x: x[gene_symbol_col].isin(self.cpdb[cpdb_de_col])]\n",
    "        if adjust_fdr:\n",
    "            de_res = fdr_correction(de_res, pvalue_col=pvalue_col, key_added=\"fdr\")\n",
    "            pvalue_col = \"fdr\"\n",
    "\n",
    "        significant_genes = de_res.loc[\n",
    "            lambda x: (x[pvalue_col] < max_pvalue) & (np.abs(x[fc_col]) >= min_abs_fc),\n",
    "            gene_symbol_col,\n",
    "        ].unique()  # type: ignore\n",
    "        significant_interactions = self.cpdb.loc[\n",
    "            lambda x: x[cpdb_de_col].isin(significant_genes)\n",
    "        ]\n",
    "\n",
    "        res_df = (\n",
    "            self.expressed_genes.loc[\n",
    "                lambda x: x[\"fraction_expressed\"] >= min_frac_expressed\n",
    "            ]  # type: ignore\n",
    "            .merge(\n",
    "                significant_interactions,\n",
    "                left_on=\"variable\",\n",
    "                right_on=cpdb_expr_col,\n",
    "            )\n",
    "            .drop(columns=[\"variable\"])\n",
    "            .merge(de_res, left_on=cpdb_de_col, right_on=gene_symbol_col)\n",
    "            .drop(columns=[gene_symbol_col])\n",
    "        )\n",
    "\n",
    "        return res_df\n",
    "\n",
    "    def plot_result(\n",
    "        self,\n",
    "        cpdb_res,\n",
    "        *,\n",
    "        pvalue_col=\"fdr\",\n",
    "        group_col=\"group\",\n",
    "        fc_col=\"log2FoldChange\",\n",
    "        title=\"CPDB analysis\",\n",
    "        aggregate=True,\n",
    "        clip_fc_at=(-5, 5),\n",
    "        label_limit=100,\n",
    "        cluster: Literal[\"heatmap\", \"dotplot\"] = \"dotplot\",\n",
    "        de_genes_mode: Literal[\"ligand\", \"receptor\"] = \"ligand\",\n",
    "    ):\n",
    "        \"\"\"\n",
    "        Plot cpdb results as heatmap\n",
    "\n",
    "        Parameters\n",
    "        ----------\n",
    "        cpdb_res\n",
    "            result of `significant_interactions`. May be further filtered or modified.\n",
    "        group_col\n",
    "            column to be used for the y axis of the heatmap\n",
    "        aggregate\n",
    "            whether to merge multiple targets of the same ligand into a single column\n",
    "        de_genes_mode\n",
    "            If the list of de genes provided are ligands (default) or receptors. If receptor, will show the dotplot\n",
    "            at the top (source are expressed ligands) and the de heatmap at the bottom (target are the DE receptors).\n",
    "            Otherwise the other way round.\n",
    "        \"\"\"\n",
    "        if de_genes_mode == \"ligand\":\n",
    "            cpdb_de_col = \"source_genesymbol\"\n",
    "            cpdb_expr_col = \"target_genesymbol\"\n",
    "        elif de_genes_mode == \"receptor\":\n",
    "            cpdb_de_col = \"target_genesymbol\"\n",
    "            cpdb_expr_col = \"source_genesymbol\"\n",
    "        else:\n",
    "            raise ValueError(\"Invalud value for de_genes_mode!\")\n",
    "\n",
    "        cpdb_res[fc_col] = np.clip(cpdb_res[fc_col], *clip_fc_at)\n",
    "\n",
    "        # aggregate if there are multiple receptors per ligand\n",
    "        if aggregate:\n",
    "            cpdb_res = (\n",
    "                cpdb_res.groupby(\n",
    "                    [\n",
    "                        self.cell_type_column,\n",
    "                        cpdb_de_col,\n",
    "                        fc_col,\n",
    "                        pvalue_col,\n",
    "                        group_col,\n",
    "                    ]\n",
    "                )\n",
    "                .agg(\n",
    "                    n=(cpdb_expr_col, len),\n",
    "                    fraction_expressed=(\"fraction_expressed\", np.max),\n",
    "                    expr_mean=(\"expr_mean\", np.max),\n",
    "                )\n",
    "                .reset_index()\n",
    "                .merge(\n",
    "                    cpdb_res.groupby(cpdb_de_col).agg(\n",
    "                        **{\n",
    "                            cpdb_expr_col: (\n",
    "                                cpdb_expr_col,\n",
    "                                lambda x: \"|\".join(np.unique(x)),\n",
    "                            )\n",
    "                        }\n",
    "                    ),\n",
    "                    on=cpdb_de_col,\n",
    "                )\n",
    "            )\n",
    "\n",
    "        cpdb_res[\"interaction\"] = [\n",
    "            f\"{s}_{t}\" for s, t in zip(cpdb_res[cpdb_de_col], cpdb_res[cpdb_expr_col])\n",
    "        ]\n",
    "\n",
    "        # cluster heatmap\n",
    "        if cluster is not None:\n",
    "            from scipy.cluster.hierarchy import linkage, leaves_list\n",
    "\n",
    "            _idx = self.cell_type_column if cluster == \"dotplot\" else group_col\n",
    "            _values = \"fraction_expressed\" if cluster == \"dotplot\" else fc_col\n",
    "            _columns = \"interaction\"\n",
    "            values_df = (\n",
    "                cpdb_res.loc[:, [_idx, _values, _columns]]\n",
    "                .drop_duplicates()\n",
    "                .pivot(\n",
    "                    index=_idx,\n",
    "                    columns=_columns,\n",
    "                    values=_values,\n",
    "                )\n",
    "                .fillna(0)\n",
    "            )\n",
    "            order = values_df.columns.values[\n",
    "                leaves_list(\n",
    "                    linkage(values_df.values.T, method=\"average\", metric=\"euclidean\")\n",
    "                )\n",
    "            ]\n",
    "        else:\n",
    "            order = \"ascending\"\n",
    "\n",
    "        p1 = plot_lm_result_altair(\n",
    "            cpdb_res,\n",
    "            color=fc_col,\n",
    "            p_col=pvalue_col,\n",
    "            x=\"interaction\",\n",
    "            configure=lambda x: x,\n",
    "            title=\"\",\n",
    "            order=order,\n",
    "            p_cutoff=1,\n",
    "        ).encode(\n",
    "            x=alt.X(\n",
    "                title=None,\n",
    "                axis=alt.Axis(\n",
    "                    labelExpr=\"split(datum.label, '_')[0]\",\n",
    "                    orient=\"top\" if de_genes_mode == \"receptor\" else \"bottom\",\n",
    "                ),\n",
    "            )\n",
    "        )\n",
    "\n",
    "        p2 = (\n",
    "            alt.Chart(cpdb_res)\n",
    "            .mark_circle()\n",
    "            .encode(\n",
    "                x=alt.X(\n",
    "                    \"interaction\",\n",
    "                    axis=alt.Axis(\n",
    "                        grid=True,\n",
    "                        orient=\"bottom\" if de_genes_mode == \"receptor\" else \"top\",\n",
    "                        title=None,\n",
    "                        labelExpr=\"split(datum.label, '_')[1]\",\n",
    "                        labelLimit=label_limit,\n",
    "                    ),\n",
    "                    sort=order,\n",
    "                ),\n",
    "                y=alt.Y(self.cell_type_column, axis=alt.Axis(grid=True), title=None),\n",
    "                size=alt.Size(\"fraction_expressed\"),\n",
    "                color=alt.Color(\"expr_mean\", scale=alt.Scale(scheme=\"cividis\")),\n",
    "            )\n",
    "        )\n",
    "\n",
    "        if de_genes_mode == \"receptor\":\n",
    "            p1, p2 = p2, p1\n",
    "\n",
    "        return (\n",
    "            alt.vconcat(p1, p2, title=title)\n",
    "            .resolve_scale(size=\"independent\", color=\"independent\", x=\"independent\")\n",
    "            .configure_mark(opacity=1)\n",
    "            .configure_concat(spacing=label_limit - 130)\n",
    "        )"
   ]
  },
  {
   "cell_type": "code",
   "execution_count": null,
   "id": "f77c9102-93bc-416e-a801-bfe037e5f1e9",
   "metadata": {},
   "outputs": [],
   "source": []
  }
 ],
 "metadata": {
  "kernelspec": {
   "display_name": "liana_2024",
   "language": "python",
   "name": "liana_2024"
  },
  "language_info": {
   "codemirror_mode": {
    "name": "ipython",
    "version": 3
   },
   "file_extension": ".py",
   "mimetype": "text/x-python",
   "name": "python",
   "nbconvert_exporter": "python",
   "pygments_lexer": "ipython3",
   "version": "3.11.7"
  }
 },
 "nbformat": 4,
 "nbformat_minor": 5
}
