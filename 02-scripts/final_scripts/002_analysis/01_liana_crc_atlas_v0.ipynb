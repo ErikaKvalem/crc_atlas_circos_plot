{
 "cells": [
  {
   "cell_type": "markdown",
   "id": "3834dd88-7fde-4a04-baad-7dbba93d58a4",
   "metadata": {},
   "source": [
    "# LIANA tumor vs normal core atlas v0"
   ]
  },
  {
   "cell_type": "markdown",
   "id": "0cfab40d-ef27-42fc-9bfa-a0d7f0de1732",
   "metadata": {},
   "source": [
    "## Libraries"
   ]
  },
  {
   "cell_type": "code",
   "execution_count": 1,
   "id": "ca17a256-aa64-4030-9da9-5fbb8a4aba95",
   "metadata": {},
   "outputs": [
    {
     "name": "stderr",
     "output_type": "stream",
     "text": [
      "/home/kvalem/.local/lib/python3.11/site-packages/tqdm/auto.py:21: TqdmWarning: IProgress not found. Please update jupyter and ipywidgets. See https://ipywidgets.readthedocs.io/en/stable/user_install.html\n",
      "  from .autonotebook import tqdm as notebook_tqdm\n"
     ]
    }
   ],
   "source": [
    "import numpy as  np\n",
    "import pandas as pd\n",
    "import scanpy as sc\n",
    "import decoupler as dc\n",
    "import liana as li\n",
    "from liana.method import singlecellsignalr, connectome, cellphonedb, natmi, logfc, cellchat, geometric_mean\n",
    "import sc_atlas_helpers as ah\n",
    "from tqdm.auto import tqdm\n",
    "import contextlib\n",
    "import os\n",
    "import statsmodels.stats.multitest\n",
    "import numpy as np\n",
    "from anndata import AnnData\n",
    "import scipy.sparse"
   ]
  },
  {
   "cell_type": "markdown",
   "id": "4f53c7e5-eeb7-4a47-9944-4d90915c6e4e",
   "metadata": {},
   "source": [
    "## Define variables, paths and comparison tumor vs normal"
   ]
  },
  {
   "cell_type": "code",
   "execution_count": 2,
   "id": "a7af2c28-3643-4ca5-b759-7e1036b01a5f",
   "metadata": {},
   "outputs": [],
   "source": [
    "comparison=\"tumor_normal\"\n",
    "subset = \"core_atlas\" \n",
    "cell_type_oi = \"Cancer cell\"\n",
    "n_top_ligands = 30"
   ]
  },
  {
   "cell_type": "code",
   "execution_count": 3,
   "id": "1c7f62e5-914a-4410-bf96-1b472ec5d4da",
   "metadata": {},
   "outputs": [],
   "source": [
    "perturbation = comparison.split(\"_\")[0].upper()\n",
    "baseline = comparison.split(\"_\")[1].upper()\n",
    "title_plot = f\"{perturbation} vs {baseline}: {cell_type_oi}, top {n_top_ligands} DE ligands\"\n",
    "cell_type_oi = cell_type_oi.replace(\" \",\"\")\n",
    "save_name_plot =  f\"{perturbation}_vs_{baseline}_{cell_type_oi}_top_{n_top_ligands}_DE_ligands\""
   ]
  },
  {
   "cell_type": "code",
   "execution_count": 4,
   "id": "493a5967-b354-4ab0-9070-f54b88859feb",
   "metadata": {},
   "outputs": [],
   "source": [
    "dataDir = \"/data/projects/2022/CRCA/results/v1/downstream_analyses/Prepare_de_analysis/artifacts/\"\n",
    "resDir =\"/data/projects/2022/CRCA/results/v1/final/liana_cell2cell/h5ads/updated/\""
   ]
  },
  {
   "cell_type": "code",
   "execution_count": 5,
   "id": "1d267f5d-ff65-4f21-90aa-db6eea98ef05",
   "metadata": {},
   "outputs": [
    {
     "data": {
      "text/plain": [
       "'/data/projects/2022/CRCA/results/v1/final/liana_cell2cell/h5ads/updated/'"
      ]
     },
     "execution_count": 5,
     "metadata": {},
     "output_type": "execute_result"
    }
   ],
   "source": [
    "resDir"
   ]
  },
  {
   "cell_type": "code",
   "execution_count": null,
   "id": "df0a5344-d8ad-469c-8ed4-986849eb8264",
   "metadata": {},
   "outputs": [],
   "source": [
    "adata = sc.read_h5ad(\"/data/projects/2022/CRCA/results/v1/downstream_analyses/Prepare_de_analysis/artifacts/paired_tumor_normal-adata.h5ad\")"
   ]
  },
  {
   "cell_type": "code",
   "execution_count": null,
   "id": "dbe169ca-0084-439c-87b8-cc5781291757",
   "metadata": {},
   "outputs": [],
   "source": [
    "adata"
   ]
  },
  {
   "cell_type": "code",
   "execution_count": null,
   "id": "80f37ca7-b958-4065-82a5-aa072d3b9b43",
   "metadata": {},
   "outputs": [],
   "source": [
    "#adata_original = adata.copy()"
   ]
  },
  {
   "cell_type": "code",
   "execution_count": null,
   "id": "7ed4128f-e15d-48aa-8b37-33a21eb1c69d",
   "metadata": {},
   "outputs": [],
   "source": [
    "adata.obs.sample_type.value_counts()"
   ]
  },
  {
   "cell_type": "code",
   "execution_count": null,
   "id": "017c170b-7ef3-4a59-adf1-500115f588ff",
   "metadata": {},
   "outputs": [],
   "source": [
    "adata.obs.cell_type_coarse.value_counts()"
   ]
  },
  {
   "cell_type": "code",
   "execution_count": null,
   "id": "1b8d46f3-040a-4ef9-9968-969320f8e399",
   "metadata": {},
   "outputs": [],
   "source": [
    "adata.obs.cell_type_middle.value_counts()"
   ]
  },
  {
   "cell_type": "code",
   "execution_count": null,
   "id": "11b0e9b5-85e1-46a3-8291-b6443460ffc4",
   "metadata": {},
   "outputs": [],
   "source": [
    "adata.obs.cell_type_fine.value_counts()"
   ]
  },
  {
   "cell_type": "code",
   "execution_count": null,
   "id": "a5db751f-23ca-4409-8a75-bcf98f2b18bf",
   "metadata": {},
   "outputs": [],
   "source": [
    "set(adata.obs.cell_type_fine)\n"
   ]
  },
  {
   "cell_type": "code",
   "execution_count": null,
   "id": "80972d18-64ae-4243-8505-c917d1152ae2",
   "metadata": {},
   "outputs": [],
   "source": [
    "adata.obs['cell_type_fine'].replace({\n",
    "    'Cancer BEST4': 'Cancer cell',\n",
    "    'Cancer Colonocyte-like': 'Cancer cell',\n",
    "    'Cancer Crypt-like': 'Cancer cell',\n",
    "    'Cancer Goblet-like': 'Cancer cell',\n",
    "    'Cancer TA-like': 'Cancer cell'\n",
    "}, inplace=True)"
   ]
  },
  {
   "cell_type": "code",
   "execution_count": null,
   "id": "4bac363d-f001-45bd-afa9-10dc63e82457",
   "metadata": {},
   "outputs": [],
   "source": [
    "set(adata.obs.cell_type_fine)\n"
   ]
  },
  {
   "cell_type": "markdown",
   "id": "7e3aa6ad-675e-43d9-93e3-245514d9c917",
   "metadata": {
    "tags": []
   },
   "source": [
    "## Pseudobulk"
   ]
  },
  {
   "cell_type": "code",
   "execution_count": null,
   "id": "f2568e77-1fc2-4ae3-9dbf-637288dad01d",
   "metadata": {},
   "outputs": [],
   "source": [
    "## Filter adata for sample_type only tumor & normal \n",
    "adata = adata[adata.obs.sample_type.isin([\"tumor\",\"normal\"])]"
   ]
  },
  {
   "cell_type": "code",
   "execution_count": null,
   "id": "4b4177ca-7ccd-4764-b582-02e67c1030d9",
   "metadata": {},
   "outputs": [],
   "source": [
    "adata.obs[\"cell_type_new\"] =  \"epithelial_cancer\""
   ]
  },
  {
   "cell_type": "code",
   "execution_count": null,
   "id": "d41d0481-0792-4e5e-92fb-506e2c3f7c13",
   "metadata": {},
   "outputs": [],
   "source": [
    "## Filter adata to have paired samples only \n",
    "#filtered_indices = adata.obs.groupby('patient_id').filter(lambda x: len(set(x['sample_type'])) >= 2).index\n",
    "#adata = adata[filtered_indices] #paired data"
   ]
  },
  {
   "cell_type": "code",
   "execution_count": null,
   "id": "4859bffb-5555-409d-b766-9b29b7b91253",
   "metadata": {},
   "outputs": [],
   "source": [
    "# Pseudobulk \n",
    "groups_col =\"sample_type\" # tumor vs normal \n",
    "sample_col=\"sample_id\" \n",
    "layer=\"counts\"\n",
    "pseudobulk = [\n",
    "    (\n",
    "        group,\n",
    "        dc.get_pseudobulk(\n",
    "            adata[adata.obs[groups_col] == group],\n",
    "            sample_col=sample_col,\n",
    "            groups_col=[groups_col,\"cell_type_fine\",\"patient_id\",\"dataset\"],\n",
    "            layer=layer,\n",
    "            mode=\"sum\",\n",
    "            min_prop=0.05,\n",
    "            min_cells=10,\n",
    "            min_counts=500,\n",
    "            min_smpls=10,\n",
    "        ),\n",
    "    )\n",
    "    for group in adata.obs[groups_col].unique()\n",
    "]"
   ]
  },
  {
   "cell_type": "code",
   "execution_count": null,
   "id": "62060ef6-a190-47aa-8417-d535d67a8f81",
   "metadata": {},
   "outputs": [],
   "source": [
    "## Create count matrix and samplesheet for each sample_type: tumor & normal \n",
    "#for group, pdata in pseudobulk:\n",
    "#    group = group.replace(\" \",\"_\")\n",
    "#    if pdata.obs[\"sample_id\"].nunique() <= 5:\n",
    "#        print(f\"Cell type {group} does not have samples in all groups\")\n",
    "#        break\n",
    "#    else:\n",
    "#        pdata.var_names.name = \"gene_id\"\n",
    "#\n",
    "#        colData = pdata.obs\n",
    "#        colData.index.name = \"sample_col\"\n",
    "#\n",
    "#        colData.to_csv(f\"{resDir}/02_pseudobulk/{group}_colData.csv\")\n",
    "#        rowData = pdata.var[[\"Geneid\", \"GeneSymbol\", \"Chromosome\", \"Class\", \"Length\"]]\n",
    "#        rowData.to_csv(f\"{resDir}/02_pseudobulk/{group}_rowData.csv\")\n",
    "#        count_mat = pdata.to_df().T\n",
    "#        count_mat.index.name = \"gene_id\"\n",
    "#        count_mat.to_csv(f\"{resDir}/02_pseudobulk/{group}_count_mat.csv\")"
   ]
  },
  {
   "cell_type": "markdown",
   "id": "e555e909-da1a-4c52-b293-6a141cec29f5",
   "metadata": {},
   "source": [
    "## LIANA- rank agregate"
   ]
  },
  {
   "cell_type": "code",
   "execution_count": null,
   "id": "2d8a6c2f-8a54-40a5-a9f9-aa4ab33ecca9",
   "metadata": {},
   "outputs": [],
   "source": [
    "adata.layers[\"log1p_norm\"] = adata.X.copy()\n",
    "sc.pp.normalize_total(adata, target_sum=1e6, layer=\"log1p_norm\")\n",
    "sc.pp.log1p(adata, base=6, layer=\"log1p_norm\")"
   ]
  },
  {
   "cell_type": "code",
   "execution_count": null,
   "id": "2d60cd93-1c1e-4aee-8b3d-8995b90e0e15",
   "metadata": {},
   "outputs": [],
   "source": [
    "# Run rank_aggregate \n",
    "li.mt.rank_aggregate(adata, groupby='cell_type_fine', expr_prop=0.1,resource_name='consensus',  verbose=True,key_added='rank_aggregate', layer = \"log1p_norm\", use_raw = False)"
   ]
  },
  {
   "cell_type": "code",
   "execution_count": null,
   "id": "368412eb-25a3-42bf-a697-7b079b49416b",
   "metadata": {},
   "outputs": [],
   "source": [
    "#Save adata with new ranked information\n",
    "adata.write_h5ad(f\"{resDir}/adata_rank_agregate.h5ad\")"
   ]
  },
  {
   "cell_type": "code",
   "execution_count": null,
   "id": "3f595848-cc3e-4ab2-a577-830efa1cd8b6",
   "metadata": {},
   "outputs": [],
   "source": []
  }
 ],
 "metadata": {
  "kernelspec": {
   "display_name": "liana_2024",
   "language": "python",
   "name": "liana_2024"
  },
  "language_info": {
   "codemirror_mode": {
    "name": "ipython",
    "version": 3
   },
   "file_extension": ".py",
   "mimetype": "text/x-python",
   "name": "python",
   "nbconvert_exporter": "python",
   "pygments_lexer": "ipython3",
   "version": "3.11.7"
  }
 },
 "nbformat": 4,
 "nbformat_minor": 5
}
