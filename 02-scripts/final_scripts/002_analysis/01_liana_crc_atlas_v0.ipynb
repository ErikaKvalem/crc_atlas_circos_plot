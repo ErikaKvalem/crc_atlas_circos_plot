{
 "cells": [
  {
   "cell_type": "markdown",
   "id": "3834dd88-7fde-4a04-baad-7dbba93d58a4",
   "metadata": {},
   "source": [
    "# LIANA tumor vs normal core atlas v0"
   ]
  },
  {
   "cell_type": "markdown",
   "id": "0cfab40d-ef27-42fc-9bfa-a0d7f0de1732",
   "metadata": {},
   "source": [
    "## Libraries"
   ]
  },
  {
   "cell_type": "code",
   "execution_count": 1,
   "id": "ca17a256-aa64-4030-9da9-5fbb8a4aba95",
   "metadata": {},
   "outputs": [
    {
     "name": "stderr",
     "output_type": "stream",
     "text": [
      "/home/kvalem/.local/lib/python3.11/site-packages/tqdm/auto.py:21: TqdmWarning: IProgress not found. Please update jupyter and ipywidgets. See https://ipywidgets.readthedocs.io/en/stable/user_install.html\n",
      "  from .autonotebook import tqdm as notebook_tqdm\n"
     ]
    }
   ],
   "source": [
    "import numpy as  np\n",
    "import pandas as pd\n",
    "import scanpy as sc\n",
    "import decoupler as dc\n",
    "import liana as li\n",
    "from liana.method import singlecellsignalr, connectome, cellphonedb, natmi, logfc, cellchat, geometric_mean\n",
    "import sc_atlas_helpers as ah\n",
    "from tqdm.auto import tqdm\n",
    "import contextlib\n",
    "import os\n",
    "import statsmodels.stats.multitest\n",
    "import numpy as np\n",
    "from anndata import AnnData\n",
    "import scipy.sparse"
   ]
  },
  {
   "cell_type": "markdown",
   "id": "4f53c7e5-eeb7-4a47-9944-4d90915c6e4e",
   "metadata": {},
   "source": [
    "## Define variables, paths and comparison tumor vs normal"
   ]
  },
  {
   "cell_type": "code",
   "execution_count": 2,
   "id": "493a5967-b354-4ab0-9070-f54b88859feb",
   "metadata": {},
   "outputs": [],
   "source": [
    "resDir =\"/data/projects/2022/CRCA/results/v1/final/liana_cell2cell/h5ads/updated/\""
   ]
  },
  {
   "cell_type": "code",
   "execution_count": 3,
   "id": "1d267f5d-ff65-4f21-90aa-db6eea98ef05",
   "metadata": {},
   "outputs": [
    {
     "data": {
      "text/plain": [
       "'/data/projects/2022/CRCA/results/v1/final/liana_cell2cell/h5ads/updated/'"
      ]
     },
     "execution_count": 3,
     "metadata": {},
     "output_type": "execute_result"
    }
   ],
   "source": [
    "resDir"
   ]
  },
  {
   "cell_type": "code",
   "execution_count": 4,
   "id": "df0a5344-d8ad-469c-8ed4-986849eb8264",
   "metadata": {},
   "outputs": [],
   "source": [
    "adata = sc.read_h5ad(\"/data/projects/2022/CRCA/results/v1/downstream_analyses/Prepare_de_analysis/artifacts/paired_tumor_normal-adata.h5ad\")"
   ]
  },
  {
   "cell_type": "code",
   "execution_count": 5,
   "id": "dbe169ca-0084-439c-87b8-cc5781291757",
   "metadata": {},
   "outputs": [
    {
     "data": {
      "text/plain": [
       "sample_type\n",
       "tumor     1557400\n",
       "normal     775115\n",
       "Name: count, dtype: int64"
      ]
     },
     "execution_count": 5,
     "metadata": {},
     "output_type": "execute_result"
    }
   ],
   "source": [
    "adata.obs.sample_type.value_counts()"
   ]
  },
  {
   "cell_type": "code",
   "execution_count": 6,
   "id": "7ed4128f-e15d-48aa-8b37-33a21eb1c69d",
   "metadata": {},
   "outputs": [
    {
     "data": {
      "text/plain": [
       "sample_type\n",
       "tumor     1557400\n",
       "normal     775115\n",
       "Name: count, dtype: int64"
      ]
     },
     "execution_count": 6,
     "metadata": {},
     "output_type": "execute_result"
    }
   ],
   "source": [
    "adata.obs.sample_type.value_counts()"
   ]
  },
  {
   "cell_type": "code",
   "execution_count": 7,
   "id": "017c170b-7ef3-4a59-adf1-500115f588ff",
   "metadata": {},
   "outputs": [
    {
     "data": {
      "text/plain": [
       "cell_type_coarse\n",
       "Plasma_cell             362084\n",
       "T_cell_CD8              355772\n",
       "Cancer_non_stem_like    323487\n",
       "T_cell_CD4              264011\n",
       "Cancer_stem_like        251557\n",
       "B_cell                  171676\n",
       "Fibroblast              133488\n",
       "Macrophage               86680\n",
       "Endothelial_cell         73950\n",
       "Granulocyte              72035\n",
       "Treg                     62290\n",
       "Pericyte                 44792\n",
       "Monocyte                 44221\n",
       "Dendritic_cell           27209\n",
       "gamma_delta              19471\n",
       "NK                       14523\n",
       "Schwann_cell             13397\n",
       "Tuft                      7040\n",
       "ILC                       2541\n",
       "Enteroendocrine           1909\n",
       "NKT                        382\n",
       "Name: count, dtype: int64"
      ]
     },
     "execution_count": 7,
     "metadata": {},
     "output_type": "execute_result"
    }
   ],
   "source": [
    "adata.obs.cell_type_coarse.value_counts()"
   ]
  },
  {
   "cell_type": "code",
   "execution_count": 8,
   "id": "1b8d46f3-040a-4ef9-9968-969320f8e399",
   "metadata": {},
   "outputs": [
    {
     "data": {
      "text/plain": [
       "cell_type_middle\n",
       "Cancer cell              386113\n",
       "Plasma cell              362084\n",
       "CD8                      355772\n",
       "CD4                      264011\n",
       "B cell                   171676\n",
       "Fibroblast               133488\n",
       "Epithelial cell          114527\n",
       "Macrophage                86680\n",
       "Endothelial cell          73950\n",
       "Treg                      62290\n",
       "Pericyte                  44792\n",
       "Monocyte                  44221\n",
       "Goblet                    38764\n",
       "Epithelial progenitor     35640\n",
       "Neutrophil                34652\n",
       "Mast cell                 29639\n",
       "Dendritic cell            27209\n",
       "gamma-delta               19471\n",
       "NK                        14523\n",
       "Schwann cell              13397\n",
       "Eosinophil                 7744\n",
       "Tuft                       7040\n",
       "ILC                        2541\n",
       "Enteroendocrine            1909\n",
       "NKT                         382\n",
       "Name: count, dtype: int64"
      ]
     },
     "execution_count": 8,
     "metadata": {},
     "output_type": "execute_result"
    }
   ],
   "source": [
    "adata.obs.cell_type_middle.value_counts()"
   ]
  },
  {
   "cell_type": "code",
   "execution_count": 9,
   "id": "11b0e9b5-85e1-46a3-8291-b6443460ffc4",
   "metadata": {},
   "outputs": [
    {
     "data": {
      "text/plain": [
       "cell_type_fine\n",
       "CD8                       349274\n",
       "Plasma IgA                289016\n",
       "CD4                       259607\n",
       "Cancer Colonocyte-like    137590\n",
       "Cancer TA-like            119040\n",
       "B cell activated          101749\n",
       "Colonocyte                 99415\n",
       "Cancer Crypt-like          96877\n",
       "Macrophage                 82153\n",
       "Fibroblast S3              75590\n",
       "Treg                       62290\n",
       "Plasma IgG                 60684\n",
       "Pericyte                   44792\n",
       "Goblet                     38764\n",
       "Neutrophil                 34274\n",
       "B cell naive               34015\n",
       "Endothelial arterial       33982\n",
       "Endothelial venous         33713\n",
       "Monocyte classical         32405\n",
       "Cancer Goblet-like         30802\n",
       "Mast cell                  29639\n",
       "Fibroblast S1              29469\n",
       "Fibroblast S2              28429\n",
       "TA progenitor              26512\n",
       "GC B cell                  23381\n",
       "gamma-delta                19471\n",
       "Colonocyte BEST4           15112\n",
       "NK                         14523\n",
       "Schwann cell               13397\n",
       "B cell memory              12531\n",
       "Monocyte non-classical     11816\n",
       "Plasmablast                11621\n",
       "cDC2                       11282\n",
       "Crypt cell                  9128\n",
       "Eosinophil                  7744\n",
       "Tuft                        7040\n",
       "CD8 cycling                 6498\n",
       "Endothelial lymphatic       6255\n",
       "cDC1                        5410\n",
       "Macrophage cycling          4527\n",
       "CD4 cycling                 4404\n",
       "DC mature                   4013\n",
       "pDC                         3300\n",
       "DC3                         2777\n",
       "ILC                         2541\n",
       "Enteroendocrine             1909\n",
       "Cancer BEST4                1804\n",
       "Plasma IgM                   763\n",
       "Myeloid progenitor           427\n",
       "NKT                          382\n",
       "Granulocyte progenitor       378\n",
       "Name: count, dtype: int64"
      ]
     },
     "execution_count": 9,
     "metadata": {},
     "output_type": "execute_result"
    }
   ],
   "source": [
    "adata.obs.cell_type_fine.value_counts()"
   ]
  },
  {
   "cell_type": "code",
   "execution_count": 10,
   "id": "a5db751f-23ca-4409-8a75-bcf98f2b18bf",
   "metadata": {
    "lines_to_next_cell": 2
   },
   "outputs": [
    {
     "data": {
      "text/plain": [
       "{'B cell activated',\n",
       " 'B cell memory',\n",
       " 'B cell naive',\n",
       " 'CD4',\n",
       " 'CD4 cycling',\n",
       " 'CD8',\n",
       " 'CD8 cycling',\n",
       " 'Cancer BEST4',\n",
       " 'Cancer Colonocyte-like',\n",
       " 'Cancer Crypt-like',\n",
       " 'Cancer Goblet-like',\n",
       " 'Cancer TA-like',\n",
       " 'Colonocyte',\n",
       " 'Colonocyte BEST4',\n",
       " 'Crypt cell',\n",
       " 'DC mature',\n",
       " 'DC3',\n",
       " 'Endothelial arterial',\n",
       " 'Endothelial lymphatic',\n",
       " 'Endothelial venous',\n",
       " 'Enteroendocrine',\n",
       " 'Eosinophil',\n",
       " 'Fibroblast S1',\n",
       " 'Fibroblast S2',\n",
       " 'Fibroblast S3',\n",
       " 'GC B cell',\n",
       " 'Goblet',\n",
       " 'Granulocyte progenitor',\n",
       " 'ILC',\n",
       " 'Macrophage',\n",
       " 'Macrophage cycling',\n",
       " 'Mast cell',\n",
       " 'Monocyte classical',\n",
       " 'Monocyte non-classical',\n",
       " 'Myeloid progenitor',\n",
       " 'NK',\n",
       " 'NKT',\n",
       " 'Neutrophil',\n",
       " 'Pericyte',\n",
       " 'Plasma IgA',\n",
       " 'Plasma IgG',\n",
       " 'Plasma IgM',\n",
       " 'Plasmablast',\n",
       " 'Schwann cell',\n",
       " 'TA progenitor',\n",
       " 'Treg',\n",
       " 'Tuft',\n",
       " 'cDC1',\n",
       " 'cDC2',\n",
       " 'gamma-delta',\n",
       " 'pDC'}"
      ]
     },
     "execution_count": 10,
     "metadata": {},
     "output_type": "execute_result"
    }
   ],
   "source": [
    "set(adata.obs.cell_type_fine)"
   ]
  },
  {
   "cell_type": "code",
   "execution_count": 12,
   "id": "fc76da09-173b-4cce-9a5e-6afe213b76e7",
   "metadata": {},
   "outputs": [],
   "source": [
    "adata = adata[(adata.obs[\"sample_type\"]==\"tumor\") & ~(adata.obs[\"sample_type\"].isin([\"Enteroendocrine\",\"NKT\"]))].copy()"
   ]
  },
  {
   "cell_type": "code",
   "execution_count": 13,
   "id": "e612b0bc-78bc-4eba-8815-99f8f582fbe4",
   "metadata": {},
   "outputs": [],
   "source": [
    "# %%\n",
    "# Make epithelial-tumor labels the same for comparisson\n",
    "cluster_annot = {\n",
    "    \"Monocyte classical\": \"Monocyte classical\",\n",
    "    \"Monocyte non-classical\": \"Monocyte non-classical\",\n",
    "    \"Macrophage\": \"Macrophage\",\n",
    "    \"Macrophage cycling\": \"Macrophage cycling\",\n",
    "    \"Myeloid progenitor\": \"Myeloid progenitor\",\n",
    "    \"cDC1\": \"cDC1\",\n",
    "    \"cDC2\": \"cDC2\",\n",
    "    \"DC3\": \"DC3\",\n",
    "    \"pDC\": \"pDC\",\n",
    "    \"DC mature\": \"DC mature\",\n",
    "    \"Granulocyte progenitor\": \"Neutrophil\",\n",
    "    \"Neutrophil\": \"Neutrophil\",\n",
    "    \"Eosinophil\": \"Eosinophil\",\n",
    "    \"Mast cell\": \"Mast cell\",\n",
    "    \"Platelet\": \"Platelet\",\n",
    "    \"CD4\": \"T cell CD4\",\n",
    "    \"Treg\": \"T cell regulatory\",\n",
    "    \"CD8\": \"T cell CD8\",\n",
    "    \"NK\": \"NK\",\n",
    "    \"ILC\": \"ILC\",\n",
    "    \"gamma-delta\": \"gamma-delta\",\n",
    "    \"NKT\": \"NKT\",\n",
    "    \"CD4 naive\": \"T cell CD4 naive\",\n",
    "    \"CD8 naive\": \"T cell CD8 naive\",\n",
    "    \"CD4 stem-like\": \"T cell CD4 stem-like\",\n",
    "    \"CD8 stem-like\": \"T cell CD8 stem-like\",\n",
    "    \"CD4 cycling\": \"T cell CD4 cycling\",\n",
    "    \"CD8 cycling\": \"T cell CD8 cycling\",\n",
    "    \"GC B cell\": \"GC B cell\",\n",
    "    \"B cell naive\": \"B cell naive\",\n",
    "    \"B cell activated naive\": \"B cell activated\",\n",
    "    \"B cell activated\": \"B cell activated\",\n",
    "    \"B cell memory\": \"B cell memory\",\n",
    "    \"Plasma IgA\": \"Plasma IgA\",\n",
    "    \"Plasma IgG\": \"Plasma IgG\",\n",
    "    \"Plasma IgM\": \"Plasma IgM\",\n",
    "    \"Plasmablast\": \"Plasmablast\",\n",
    "    \"Crypt cell\": \"Cancer Crypt-like\",\n",
    "    \"TA progenitor\": \"Cancer TA-like\",\n",
    "    \"Colonocyte\": \"Cancer Colonocyte-like\",\n",
    "    \"Colonocyte BEST4\": \"Cancer BEST4\",\n",
    "    \"Goblet\": \"Cancer Goblet-like\",\n",
    "    \"Tuft\": \"Tuft\",\n",
    "    \"Enteroendocrine\": \"Enteroendocrine\",\n",
    "    \"Cancer Colonocyte-like\": \"Cancer Colonocyte-like\",\n",
    "    \"Cancer BEST4\": \"Cancer BEST4\",\n",
    "    \"Cancer Goblet-like\": \"Cancer Goblet-like\",\n",
    "    \"Cancer Crypt-like\": \"Cancer Crypt-like\",\n",
    "    \"Cancer TA-like\": \"Cancer TA-like\",\n",
    "    \"Cancer cell circulating\": \"Cancer cell circulating\",\n",
    "    \"Endothelial venous\": \"Endothelial venous\",\n",
    "    \"Endothelial arterial\": \"Endothelial arterial\",\n",
    "    \"Endothelial lymphatic\": \"Endothelial lymphatic\",\n",
    "    \"Fibroblast S1\": \"Fibroblast S1\",\n",
    "    \"Fibroblast S2\": \"Fibroblast S2\",\n",
    "    \"Fibroblast S3\": \"Fibroblast S3\",\n",
    "    \"Pericyte\": \"Pericyte\",\n",
    "    \"Schwann cell\": \"Schwann cell\",\n",
    "    \"Hepatocyte\": \"Hepatocyte\",\n",
    "    \"Fibroblastic reticular cell\": \"Fibroblastic reticular cell\",\n",
    "    \"Epithelial reticular cell\": \"Epithelial reticular cell\",\n",
    "}\n",
    "adata.obs[\"cell_type\"] = (\n",
    "    adata.obs[\"cell_type_fine\"].map(cluster_annot)\n",
    ")\n",
    "\n",
    "# %%\n",
    "cluster_annot = {\n",
    "    \"Monocyte classical\": \"Monocyte\",\n",
    "    \"Monocyte non-classical\": \"Monocyte\",\n",
    "    \"Macrophage\": \"Macrophage\",\n",
    "    \"Macrophage cycling\": \"Macrophage\",\n",
    "    \"Myeloid progenitor\": \"Dendritic cell\",\n",
    "    \"cDC1\": \"Dendritic cell\",\n",
    "    \"cDC2\": \"Dendritic cell\",\n",
    "    \"DC3\": \"Dendritic cell\",\n",
    "    \"pDC\": \"Dendritic cell\",\n",
    "    \"DC mature\": \"Dendritic cell\",\n",
    "    \"Granulocyte progenitor\": \"Neutrophil\",\n",
    "    \"Neutrophil\": \"Neutrophil\",\n",
    "    \"Eosinophil\": \"Eosinophil\",\n",
    "    \"Mast cell\": \"Mast cell\",\n",
    "    \"Platelet\": \"Platelet\",\n",
    "    \"CD4\": \"T cell CD4\",\n",
    "    \"Treg\": \"T cell CD4\",\n",
    "    \"CD8\": \"T cell CD8\",\n",
    "    \"NK\": \"NK\",\n",
    "    \"ILC\": \"ILC\",\n",
    "    \"gamma-delta\": \"gamma-delta\",\n",
    "    \"NKT\": \"NKT\",\n",
    "    \"CD4 naive\": \"T cell CD4\",\n",
    "    \"CD8 naive\": \"T cell CD8\",\n",
    "    \"CD4 stem-like\": \"T cell CD4\",\n",
    "    \"CD8 stem-like\": \"T cell CD8\",\n",
    "    \"CD4 cycling\": \"T cell CD4\",\n",
    "    \"CD8 cycling\": \"T cell CD8\",\n",
    "    \"GC B cell\": \"B cell\",\n",
    "    \"B cell naive\": \"B cell\",\n",
    "    \"B cell activated naive\": \"B cell\",\n",
    "    \"B cell activated\": \"B cell\",\n",
    "    \"B cell memory\": \"B cell\",\n",
    "    \"Plasma IgA\": \"Plasma cell\",\n",
    "    \"Plasma IgG\": \"Plasma cell\",\n",
    "    \"Plasma IgM\": \"Plasma cell\",\n",
    "    \"Plasmablast\": \"Plasma cell\",\n",
    "    \"Crypt cell\": \"Cancer stem-like\",\n",
    "    \"TA progenitor\": \"Cancer stem-like\",\n",
    "    \"Colonocyte\": \"Cancer non-stem-like\",\n",
    "    \"Colonocyte BEST4\": \"Cancer non-stem-like\",\n",
    "    \"Goblet\": \"Cancer non-stem-like\",\n",
    "    \"Tuft\": \"Tuft\",\n",
    "    \"Enteroendocrine\": \"Enteroendocrine\",\n",
    "    \"Cancer Colonocyte-like\": \"Cancer cell\",\n",
    "    \"Cancer BEST4\": \"Cancer cell\",\n",
    "    \"Cancer Goblet-like\": \"Cancer cell\",\n",
    "    \"Cancer Crypt-like\": \"Cancer cell\",\n",
    "    \"Cancer TA-like\": \"Cancer cell\",\n",
    "    \"Cancer cell circulating\": \"Cancer cell circulating\",\n",
    "    \"Endothelial venous\": \"Endothelial cell\",\n",
    "    \"Endothelial arterial\": \"Endothelial cell\",\n",
    "    \"Endothelial lymphatic\": \"Endothelial cell\",\n",
    "    \"Fibroblast S1\": \"Fibroblast\",\n",
    "    \"Fibroblast S2\": \"Fibroblast\",\n",
    "    \"Fibroblast S3\": \"Fibroblast\",\n",
    "    \"Pericyte\": \"Pericyte\",\n",
    "    \"Schwann cell\": \"Schwann cell\",\n",
    "    \"Hepatocyte\": \"Hepatocyte\",\n",
    "    \"Fibroblastic reticular cell\": \"Fibroblastic reticular cell\",\n",
    "    \"Epithelial reticular cell\": \"Epithelial reticular cell\",\n",
    "}\n",
    "adata.obs[\"cell_type_coarse\"] = (\n",
    "    adata.obs[\"cell_type_fine\"].map(cluster_annot)\n",
    ")\n",
    "\n",
    "# %%\n",
    "adata.obs[\"cell_type_lineage\"] = adata.obs[\"cell_type_coarse\"].astype(str).replace(\n",
    "    {\n",
    "        \"Cancer non-stem-like\": \"Cancer cell\",\n",
    "        \"Cancer stem-like\": \"Cancer cell\",\n",
    "        \"Cancer cell circulating\": \"Cancer cell\",\n",
    "        \"T cell CD8\": \"T cell\",\n",
    "        \"T cell CD4\": \"T cell\",\n",
    "        \"gamma-delta\": \"T cell\",\n",
    "        \"NKT\": \"T cell\",\n",
    "        \"Plasma cell\": \"B cell\",\n",
    "        \"Macrophage\": \"Myeloid cell\",\n",
    "        \"Monocyte\": \"Myeloid cell\",\n",
    "        \"Dendritic cell\": \"Myeloid cell\",\n",
    "        \"Granulocyte\": \"Myeloid cell\",\n",
    "        \"Fibroblast\": \"Stromal cell\",\n",
    "        \"Endothelial cell\": \"Stromal cell\",\n",
    "        \"Pericyte\": \"Stromal cell\",\n",
    "        \"Schwann cell\": \"Stromal cell\",\n",
    "    }\n",
    ")"
   ]
  },
  {
   "cell_type": "code",
   "execution_count": 14,
   "id": "6d8cb163-123b-48a3-bacc-81c549d4e4b5",
   "metadata": {},
   "outputs": [
    {
     "data": {
      "text/plain": [
       "{'B cell activated',\n",
       " 'B cell memory',\n",
       " 'B cell naive',\n",
       " 'Cancer BEST4',\n",
       " 'Cancer Colonocyte-like',\n",
       " 'Cancer Crypt-like',\n",
       " 'Cancer Goblet-like',\n",
       " 'Cancer TA-like',\n",
       " 'DC mature',\n",
       " 'DC3',\n",
       " 'Endothelial arterial',\n",
       " 'Endothelial lymphatic',\n",
       " 'Endothelial venous',\n",
       " 'Enteroendocrine',\n",
       " 'Eosinophil',\n",
       " 'Fibroblast S1',\n",
       " 'Fibroblast S2',\n",
       " 'Fibroblast S3',\n",
       " 'GC B cell',\n",
       " 'ILC',\n",
       " 'Macrophage',\n",
       " 'Macrophage cycling',\n",
       " 'Mast cell',\n",
       " 'Monocyte classical',\n",
       " 'Monocyte non-classical',\n",
       " 'Myeloid progenitor',\n",
       " 'NK',\n",
       " 'NKT',\n",
       " 'Neutrophil',\n",
       " 'Pericyte',\n",
       " 'Plasma IgA',\n",
       " 'Plasma IgG',\n",
       " 'Plasma IgM',\n",
       " 'Plasmablast',\n",
       " 'Schwann cell',\n",
       " 'T cell CD4',\n",
       " 'T cell CD4 cycling',\n",
       " 'T cell CD8',\n",
       " 'T cell CD8 cycling',\n",
       " 'T cell regulatory',\n",
       " 'Tuft',\n",
       " 'cDC1',\n",
       " 'cDC2',\n",
       " 'gamma-delta',\n",
       " 'pDC'}"
      ]
     },
     "execution_count": 14,
     "metadata": {},
     "output_type": "execute_result"
    }
   ],
   "source": [
    "set(adata.obs.cell_type)"
   ]
  },
  {
   "cell_type": "code",
   "execution_count": 15,
   "id": "c6ad8a6c-1ebe-44b2-894b-59dd90f8a7d7",
   "metadata": {},
   "outputs": [
    {
     "data": {
      "text/plain": [
       "{'B cell',\n",
       " 'Cancer cell',\n",
       " 'Dendritic cell',\n",
       " 'Endothelial cell',\n",
       " 'Enteroendocrine',\n",
       " 'Eosinophil',\n",
       " 'Fibroblast',\n",
       " 'ILC',\n",
       " 'Macrophage',\n",
       " 'Mast cell',\n",
       " 'Monocyte',\n",
       " 'NK',\n",
       " 'NKT',\n",
       " 'Neutrophil',\n",
       " 'Pericyte',\n",
       " 'Plasma cell',\n",
       " 'Schwann cell',\n",
       " 'T cell CD4',\n",
       " 'T cell CD8',\n",
       " 'Tuft',\n",
       " 'gamma-delta'}"
      ]
     },
     "execution_count": 15,
     "metadata": {},
     "output_type": "execute_result"
    }
   ],
   "source": [
    "set(adata.obs.cell_type_coarse)"
   ]
  },
  {
   "cell_type": "code",
   "execution_count": 16,
   "id": "ca256878-0489-4182-a707-c213466972de",
   "metadata": {},
   "outputs": [
    {
     "data": {
      "text/plain": [
       "cell_type_coarse\n",
       "Cancer cell         386113\n",
       "T cell CD8          246021\n",
       "T cell CD4          229632\n",
       "Plasma cell         192909\n",
       "B cell               98174\n",
       "Fibroblast           86281\n",
       "Macrophage           72972\n",
       "Endothelial cell     59723\n",
       "Monocyte             39388\n",
       "Pericyte             33936\n",
       "Neutrophil           33055\n",
       "Dendritic cell       21755\n",
       "Mast cell            18083\n",
       "NK                   11491\n",
       "gamma-delta          11191\n",
       "Schwann cell          6551\n",
       "Eosinophil            5562\n",
       "Tuft                  1916\n",
       "ILC                   1538\n",
       "Enteroendocrine        817\n",
       "NKT                    292\n",
       "Name: count, dtype: int64"
      ]
     },
     "execution_count": 16,
     "metadata": {},
     "output_type": "execute_result"
    }
   ],
   "source": [
    "adata[adata.obs[\"sample_type\"]==\"tumor\"].obs.cell_type_coarse.value_counts()"
   ]
  },
  {
   "cell_type": "code",
   "execution_count": 17,
   "id": "4bac363d-f001-45bd-afa9-10dc63e82457",
   "metadata": {
    "lines_to_next_cell": 2
   },
   "outputs": [
    {
     "data": {
      "text/plain": [
       "{'B cell activated',\n",
       " 'B cell memory',\n",
       " 'B cell naive',\n",
       " 'CD4',\n",
       " 'CD4 cycling',\n",
       " 'CD8',\n",
       " 'CD8 cycling',\n",
       " 'Cancer BEST4',\n",
       " 'Cancer Colonocyte-like',\n",
       " 'Cancer Crypt-like',\n",
       " 'Cancer Goblet-like',\n",
       " 'Cancer TA-like',\n",
       " 'DC mature',\n",
       " 'DC3',\n",
       " 'Endothelial arterial',\n",
       " 'Endothelial lymphatic',\n",
       " 'Endothelial venous',\n",
       " 'Enteroendocrine',\n",
       " 'Eosinophil',\n",
       " 'Fibroblast S1',\n",
       " 'Fibroblast S2',\n",
       " 'Fibroblast S3',\n",
       " 'GC B cell',\n",
       " 'Granulocyte progenitor',\n",
       " 'ILC',\n",
       " 'Macrophage',\n",
       " 'Macrophage cycling',\n",
       " 'Mast cell',\n",
       " 'Monocyte classical',\n",
       " 'Monocyte non-classical',\n",
       " 'Myeloid progenitor',\n",
       " 'NK',\n",
       " 'NKT',\n",
       " 'Neutrophil',\n",
       " 'Pericyte',\n",
       " 'Plasma IgA',\n",
       " 'Plasma IgG',\n",
       " 'Plasma IgM',\n",
       " 'Plasmablast',\n",
       " 'Schwann cell',\n",
       " 'Treg',\n",
       " 'Tuft',\n",
       " 'cDC1',\n",
       " 'cDC2',\n",
       " 'gamma-delta',\n",
       " 'pDC'}"
      ]
     },
     "execution_count": 17,
     "metadata": {},
     "output_type": "execute_result"
    }
   ],
   "source": [
    "set(adata.obs.cell_type_fine)"
   ]
  },
  {
   "cell_type": "markdown",
   "id": "e555e909-da1a-4c52-b293-6a141cec29f5",
   "metadata": {},
   "source": [
    "## LIANA- rank agregate"
   ]
  },
  {
   "cell_type": "code",
   "execution_count": null,
   "id": "2d8a6c2f-8a54-40a5-a9f9-aa4ab33ecca9",
   "metadata": {},
   "outputs": [],
   "source": [
    "adata.layers[\"log1p_norm\"] = adata.X.copy()\n",
    "sc.pp.normalize_total(adata, target_sum=1e6, layer=\"log1p_norm\")\n",
    "sc.pp.log1p(adata, base=6, layer=\"log1p_norm\")"
   ]
  },
  {
   "cell_type": "code",
   "execution_count": null,
   "id": "2d60cd93-1c1e-4aee-8b3d-8995b90e0e15",
   "metadata": {},
   "outputs": [],
   "source": [
    "# Run rank_aggregate \n",
    "li.mt.rank_aggregate(adata, groupby='cell_type_coarse', expr_prop=0.1,resource_name='consensus',  verbose=True,key_added='rank_aggregate', n_jobs=6, layer = \"log1p_norm\", use_raw = False)"
   ]
  },
  {
   "cell_type": "code",
   "execution_count": null,
   "id": "368412eb-25a3-42bf-a697-7b079b49416b",
   "metadata": {},
   "outputs": [],
   "source": [
    "#Save adata with new ranked information\n",
    "adata.write_h5ad(f\"{resDir}/adata_rank_agregate.h5ad\")"
   ]
  },
  {
   "cell_type": "code",
   "execution_count": null,
   "id": "3f595848-cc3e-4ab2-a577-830efa1cd8b6",
   "metadata": {},
   "outputs": [],
   "source": []
  }
 ],
 "metadata": {
  "jupytext": {
   "formats": "ipynb,py:light"
  },
  "kernelspec": {
   "display_name": "liana_2024",
   "language": "python",
   "name": "liana_2024"
  },
  "language_info": {
   "codemirror_mode": {
    "name": "ipython",
    "version": 3
   },
   "file_extension": ".py",
   "mimetype": "text/x-python",
   "name": "python",
   "nbconvert_exporter": "python",
   "pygments_lexer": "ipython3",
   "version": "3.11.7"
  }
 },
 "nbformat": 4,
 "nbformat_minor": 5
}
