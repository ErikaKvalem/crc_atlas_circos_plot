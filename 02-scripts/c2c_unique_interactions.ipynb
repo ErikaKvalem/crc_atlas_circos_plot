{
 "cells": [
  {
   "cell_type": "markdown",
   "id": "faded43e-81a7-4e6a-8362-6ed3d69e2b5a",
   "metadata": {},
   "source": [
    "# Analysis of single-cell TCR repertoires and gene expression from multi-modal scRNA-seq data\n",
    "From book chapter"
   ]
  },
  {
   "cell_type": "code",
   "execution_count": 1,
   "id": "301ae631-eac5-47b6-8bb8-f499187ce609",
   "metadata": {},
   "outputs": [
    {
     "name": "stderr",
     "output_type": "stream",
     "text": [
      "/home/kvalem/.conda/envs/tcr_2024/lib/python3.12/site-packages/tqdm/auto.py:21: TqdmWarning: IProgress not found. Please update jupyter and ipywidgets. See https://ipywidgets.readthedocs.io/en/stable/user_install.html\n",
      "  from .autonotebook import tqdm as notebook_tqdm\n"
     ]
    }
   ],
   "source": [
    "import muon as mu\n",
    "import pandas as pd\n",
    "import scanpy as sc\n",
    "import scirpy as ir\n",
    "import numpy as np"
   ]
  },
  {
   "cell_type": "code",
   "execution_count": 2,
   "id": "9c104688-2245-4f16-8c1e-d900c7611a72",
   "metadata": {},
   "outputs": [],
   "source": [
    "import matplotlib.pyplot as plt\n",
    "import seaborn as sns"
   ]
  },
  {
   "cell_type": "code",
   "execution_count": 3,
   "id": "c7169870-26d1-4447-b96b-8e18d4858f15",
   "metadata": {},
   "outputs": [],
   "source": [
    "df = pd.read_csv(\"/data/projects/2022/CRCA/results/v0.1/crc-atlas-dataset/latest/ds_analyses/liana_cell2cell/neutrophil_subclusters/tumor_blood/neutrophil.csv\")"
   ]
  },
  {
   "cell_type": "code",
   "execution_count": 4,
   "id": "7fa42413-fcb5-4015-9094-5da01ae3d544",
   "metadata": {},
   "outputs": [],
   "source": [
    "df_ss = df[df[\"cell_type\"].isin(['B cell','Macrophage', 'Monocyte', 'NK',\n",
    " 'T cell CD4',\n",
    " 'T cell CD8',\n",
    " 'T cell regulatory','Cancer cell'])]"
   ]
  },
  {
   "cell_type": "markdown",
   "id": "42736820-628a-4027-868e-df201a215fd4",
   "metadata": {},
   "source": [
    "## Neutrophils interactions"
   ]
  },
  {
   "cell_type": "code",
   "execution_count": 5,
   "id": "b939b7ac-c8de-4d30-82c4-df6f4aedefb7",
   "metadata": {},
   "outputs": [],
   "source": [
    "df_ss_neutro  = df_ss"
   ]
  },
  {
   "cell_type": "code",
   "execution_count": 6,
   "id": "621b3410-2784-4b57-a8f3-56cac7351580",
   "metadata": {},
   "outputs": [
    {
     "name": "stderr",
     "output_type": "stream",
     "text": [
      "/tmp/ipykernel_163001/3182691188.py:1: SettingWithCopyWarning: \n",
      "A value is trying to be set on a copy of a slice from a DataFrame.\n",
      "Try using .loc[row_indexer,col_indexer] = value instead\n",
      "\n",
      "See the caveats in the documentation: https://pandas.pydata.org/pandas-docs/stable/user_guide/indexing.html#returning-a-view-versus-a-copy\n",
      "  df_ss_neutro[\"cluster_1\"] = \"Neutrophil\"\n"
     ]
    }
   ],
   "source": [
    "df_ss_neutro[\"cluster_1\"] = \"Neutrophil\""
   ]
  },
  {
   "cell_type": "code",
   "execution_count": 7,
   "id": "7aad914f-c009-478a-ba69-b85ccf8d9139",
   "metadata": {
    "scrolled": true
   },
   "outputs": [
    {
     "name": "stderr",
     "output_type": "stream",
     "text": [
      "/tmp/ipykernel_163001/83736731.py:1: SettingWithCopyWarning: \n",
      "A value is trying to be set on a copy of a slice from a DataFrame.\n",
      "Try using .loc[row_indexer,col_indexer] = value instead\n",
      "\n",
      "See the caveats in the documentation: https://pandas.pydata.org/pandas-docs/stable/user_guide/indexing.html#returning-a-view-versus-a-copy\n",
      "  df_ss_neutro[\"new_column_neutro\"]= df_ss_neutro[\"source_genesymbol\"] +  df_ss_neutro[\"target_genesymbol\"] + df_ss_neutro[\"source\"]+df_ss_neutro[\"cluster_1\"]\n"
     ]
    }
   ],
   "source": [
    "df_ss_neutro[\"new_column_neutro\"]= df_ss_neutro[\"source_genesymbol\"] +  df_ss_neutro[\"target_genesymbol\"] + df_ss_neutro[\"source\"]+df_ss_neutro[\"cluster_1\"]"
   ]
  },
  {
   "cell_type": "code",
   "execution_count": 8,
   "id": "21f8ea31-cb92-4100-a381-42d2d5ebfacd",
   "metadata": {},
   "outputs": [],
   "source": [
    "unique_rows_neutro = df_ss_neutro.drop_duplicates(subset=\"new_column_neutro\")"
   ]
  },
  {
   "cell_type": "code",
   "execution_count": 9,
   "id": "96714ecd-8237-438e-990b-fa29e099862e",
   "metadata": {},
   "outputs": [
    {
     "data": {
      "text/plain": [
       "array(['Cancer cell', 'B cell', 'T cell CD8', 'T cell CD4', 'Monocyte',\n",
       "       'Macrophage', 'NK', 'T cell regulatory'], dtype=object)"
      ]
     },
     "execution_count": 9,
     "metadata": {},
     "output_type": "execute_result"
    }
   ],
   "source": [
    "unique_rows_neutro.cell_type.unique()"
   ]
  },
  {
   "cell_type": "code",
   "execution_count": 10,
   "id": "1a051e2c-b150-483b-af4d-75b601180118",
   "metadata": {},
   "outputs": [
    {
     "data": {
      "text/plain": [
       "array(['Cancer cell', 'B cell', 'Schwann cell', 'T cell regulatory',\n",
       "       'Macrophage', 'Monocyte', 'pDC', 'Plasma cell', 'Endothelial',\n",
       "       'cDC', 'NK', 'Pericyte', 'Fibroblast', 'Mast cell', 'T cell CD8'],\n",
       "      dtype=object)"
      ]
     },
     "execution_count": 10,
     "metadata": {},
     "output_type": "execute_result"
    }
   ],
   "source": [
    "unique_rows_neutro.target.unique()"
   ]
  },
  {
   "cell_type": "code",
   "execution_count": 11,
   "id": "833da52c-3786-45e0-a5cd-8cdad834e48c",
   "metadata": {},
   "outputs": [],
   "source": [
    "unique_rows_neutro = unique_rows_neutro[unique_rows_neutro[\"source\"].isin(['B cell','Macrophage', 'Monocyte', 'NK',\n",
    " 'T cell CD4',\n",
    " 'T cell CD8',\n",
    " 'T cell regulatory','Cancer cell'])]"
   ]
  },
  {
   "cell_type": "code",
   "execution_count": 12,
   "id": "42d40923-94e8-49d0-881e-06d32e64192a",
   "metadata": {},
   "outputs": [],
   "source": [
    "unique_sources_neutro = unique_rows_neutro['cluster_1'].unique()\n",
    "unique_targets_neutro = unique_rows_neutro['cell_type'].unique()"
   ]
  },
  {
   "cell_type": "code",
   "execution_count": 13,
   "id": "956cdbed-d27f-48d7-a16f-64650e566046",
   "metadata": {},
   "outputs": [],
   "source": [
    "interaction_matrix_neutro = pd.DataFrame([(src, tgt) for src in unique_sources_neutro for tgt in unique_targets_neutro], columns=['source', 'target'])"
   ]
  },
  {
   "cell_type": "code",
   "execution_count": 14,
   "id": "64cb2908-d220-4773-a8f6-f8a5fafe4f67",
   "metadata": {},
   "outputs": [],
   "source": [
    "count_df_neutro = unique_rows_neutro.groupby(['cluster_1', 'target']).size().reset_index(name='n')\n",
    "count_df_neutro.rename(columns = {\"cluster_1\":\"source\"}, inplace=True)\n",
    "interaction_matrix_neutro = interaction_matrix_neutro.merge(count_df_neutro, on=['source', 'target'], how='left').fillna(0)\n",
    "interaction_matrix_neutro = interaction_matrix_neutro.pivot(index='target', columns='source', values='n').fillna(0)\n",
    "interaction_matrix_neutro = interaction_matrix_neutro.astype(int)"
   ]
  },
  {
   "cell_type": "markdown",
   "id": "26c5e903-5fe8-479e-9ad1-a5a84cecaaa3",
   "metadata": {},
   "source": [
    "## All cells interactions"
   ]
  },
  {
   "cell_type": "code",
   "execution_count": 15,
   "id": "71f749cc-d03e-469a-9e0c-544cdd0678b1",
   "metadata": {},
   "outputs": [
    {
     "name": "stderr",
     "output_type": "stream",
     "text": [
      "/tmp/ipykernel_163001/2765319709.py:1: SettingWithCopyWarning: \n",
      "A value is trying to be set on a copy of a slice from a DataFrame.\n",
      "Try using .loc[row_indexer,col_indexer] = value instead\n",
      "\n",
      "See the caveats in the documentation: https://pandas.pydata.org/pandas-docs/stable/user_guide/indexing.html#returning-a-view-versus-a-copy\n",
      "  df_ss[\"new_column\"]= df_ss[\"source_genesymbol\"] +  df_ss[\"target_genesymbol\"] + df_ss[\"source\"]+df_ss[\"target\"]\n"
     ]
    }
   ],
   "source": [
    "df_ss[\"new_column\"]= df_ss[\"source_genesymbol\"] +  df_ss[\"target_genesymbol\"] + df_ss[\"source\"]+df_ss[\"target\"]"
   ]
  },
  {
   "cell_type": "code",
   "execution_count": 16,
   "id": "17a5deb2-6500-412a-b7a8-5acad06d8d31",
   "metadata": {},
   "outputs": [],
   "source": [
    "unique_rows = df_ss.drop_duplicates(subset=\"new_column\")"
   ]
  },
  {
   "cell_type": "code",
   "execution_count": 17,
   "id": "3a2c843b-04ff-4c73-88a6-4abd6703c52f",
   "metadata": {},
   "outputs": [
    {
     "name": "stderr",
     "output_type": "stream",
     "text": [
      "/tmp/ipykernel_163001/3371825030.py:1: UserWarning: Boolean Series key will be reindexed to match DataFrame index.\n",
      "  unique_rows = unique_rows[df[\"source\"].isin(['B cell','Macrophage', 'Monocyte', 'NK',\n"
     ]
    }
   ],
   "source": [
    "unique_rows = unique_rows[df[\"source\"].isin(['B cell','Macrophage', 'Monocyte', 'NK',\n",
    " 'T cell CD4',\n",
    " 'T cell CD8',\n",
    " 'T cell regulatory','Cancer cell'])]"
   ]
  },
  {
   "cell_type": "code",
   "execution_count": 18,
   "id": "cbdb23a8-1ae7-4f17-8ab4-a33092a4ef62",
   "metadata": {},
   "outputs": [],
   "source": [
    "unique_rows = unique_rows[unique_rows[\"target\"].isin(['B cell','Macrophage', 'Monocyte', 'NK',\n",
    " 'T cell CD4',\n",
    " 'T cell CD8',\n",
    " 'T cell regulatory','Cancer cell'])]"
   ]
  },
  {
   "cell_type": "code",
   "execution_count": 19,
   "id": "5f73e856-560d-4072-bc71-9f2808bcd74b",
   "metadata": {},
   "outputs": [],
   "source": [
    "unique_sources = unique_rows['cell_type'].unique()\n",
    "unique_targets = unique_rows['cell_type'].unique()"
   ]
  },
  {
   "cell_type": "code",
   "execution_count": 20,
   "id": "acb9a217-435a-4167-8dad-d1824e2c97d8",
   "metadata": {},
   "outputs": [],
   "source": [
    "interaction_matrix = pd.DataFrame([(src, tgt) for src in unique_sources for tgt in unique_targets], columns=['source', 'target'])\n",
    "count_df = unique_rows.groupby(['source', 'target']).size().reset_index(name='n')\n",
    "interaction_matrix = interaction_matrix.merge(count_df, on=['source', 'target'], how='left').fillna(0)\n",
    "interaction_matrix = interaction_matrix.pivot(index='target', columns='source', values='n').fillna(0)\n",
    "interaction_matrix = interaction_matrix.astype(int)"
   ]
  },
  {
   "cell_type": "code",
   "execution_count": 21,
   "id": "03079964-20fd-425e-9b7b-335feef65df1",
   "metadata": {},
   "outputs": [
    {
     "data": {
      "text/html": [
       "<div>\n",
       "<style scoped>\n",
       "    .dataframe tbody tr th:only-of-type {\n",
       "        vertical-align: middle;\n",
       "    }\n",
       "\n",
       "    .dataframe tbody tr th {\n",
       "        vertical-align: top;\n",
       "    }\n",
       "\n",
       "    .dataframe thead th {\n",
       "        text-align: right;\n",
       "    }\n",
       "</style>\n",
       "<table border=\"1\" class=\"dataframe\">\n",
       "  <thead>\n",
       "    <tr style=\"text-align: right;\">\n",
       "      <th>source</th>\n",
       "      <th>Neutrophil</th>\n",
       "    </tr>\n",
       "    <tr>\n",
       "      <th>target</th>\n",
       "      <th></th>\n",
       "    </tr>\n",
       "  </thead>\n",
       "  <tbody>\n",
       "    <tr>\n",
       "      <th>B cell</th>\n",
       "      <td>5</td>\n",
       "    </tr>\n",
       "    <tr>\n",
       "      <th>Cancer cell</th>\n",
       "      <td>25</td>\n",
       "    </tr>\n",
       "    <tr>\n",
       "      <th>Macrophage</th>\n",
       "      <td>18</td>\n",
       "    </tr>\n",
       "    <tr>\n",
       "      <th>Monocyte</th>\n",
       "      <td>42</td>\n",
       "    </tr>\n",
       "    <tr>\n",
       "      <th>NK</th>\n",
       "      <td>25</td>\n",
       "    </tr>\n",
       "    <tr>\n",
       "      <th>T cell CD4</th>\n",
       "      <td>0</td>\n",
       "    </tr>\n",
       "    <tr>\n",
       "      <th>T cell CD8</th>\n",
       "      <td>11</td>\n",
       "    </tr>\n",
       "    <tr>\n",
       "      <th>T cell regulatory</th>\n",
       "      <td>9</td>\n",
       "    </tr>\n",
       "  </tbody>\n",
       "</table>\n",
       "</div>"
      ],
      "text/plain": [
       "source             Neutrophil\n",
       "target                       \n",
       "B cell                      5\n",
       "Cancer cell                25\n",
       "Macrophage                 18\n",
       "Monocyte                   42\n",
       "NK                         25\n",
       "T cell CD4                  0\n",
       "T cell CD8                 11\n",
       "T cell regulatory           9"
      ]
     },
     "execution_count": 21,
     "metadata": {},
     "output_type": "execute_result"
    }
   ],
   "source": [
    "interaction_matrix_neutro"
   ]
  },
  {
   "cell_type": "code",
   "execution_count": 22,
   "id": "9cef79ec-3933-41d3-8eb6-d45c6cb0e5d1",
   "metadata": {},
   "outputs": [
    {
     "data": {
      "text/html": [
       "<div>\n",
       "<style scoped>\n",
       "    .dataframe tbody tr th:only-of-type {\n",
       "        vertical-align: middle;\n",
       "    }\n",
       "\n",
       "    .dataframe tbody tr th {\n",
       "        vertical-align: top;\n",
       "    }\n",
       "\n",
       "    .dataframe thead th {\n",
       "        text-align: right;\n",
       "    }\n",
       "</style>\n",
       "<table border=\"1\" class=\"dataframe\">\n",
       "  <thead>\n",
       "    <tr style=\"text-align: right;\">\n",
       "      <th>source</th>\n",
       "      <th>B cell</th>\n",
       "      <th>Cancer cell</th>\n",
       "      <th>Macrophage</th>\n",
       "      <th>Monocyte</th>\n",
       "      <th>NK</th>\n",
       "      <th>T cell CD4</th>\n",
       "      <th>T cell CD8</th>\n",
       "      <th>T cell regulatory</th>\n",
       "    </tr>\n",
       "    <tr>\n",
       "      <th>target</th>\n",
       "      <th></th>\n",
       "      <th></th>\n",
       "      <th></th>\n",
       "      <th></th>\n",
       "      <th></th>\n",
       "      <th></th>\n",
       "      <th></th>\n",
       "      <th></th>\n",
       "    </tr>\n",
       "  </thead>\n",
       "  <tbody>\n",
       "    <tr>\n",
       "      <th>B cell</th>\n",
       "      <td>0</td>\n",
       "      <td>1</td>\n",
       "      <td>3</td>\n",
       "      <td>4</td>\n",
       "      <td>2</td>\n",
       "      <td>0</td>\n",
       "      <td>2</td>\n",
       "      <td>1</td>\n",
       "    </tr>\n",
       "    <tr>\n",
       "      <th>Cancer cell</th>\n",
       "      <td>2</td>\n",
       "      <td>7</td>\n",
       "      <td>21</td>\n",
       "      <td>18</td>\n",
       "      <td>4</td>\n",
       "      <td>2</td>\n",
       "      <td>4</td>\n",
       "      <td>3</td>\n",
       "    </tr>\n",
       "    <tr>\n",
       "      <th>Macrophage</th>\n",
       "      <td>9</td>\n",
       "      <td>9</td>\n",
       "      <td>36</td>\n",
       "      <td>30</td>\n",
       "      <td>5</td>\n",
       "      <td>4</td>\n",
       "      <td>6</td>\n",
       "      <td>5</td>\n",
       "    </tr>\n",
       "    <tr>\n",
       "      <th>Monocyte</th>\n",
       "      <td>8</td>\n",
       "      <td>7</td>\n",
       "      <td>27</td>\n",
       "      <td>23</td>\n",
       "      <td>6</td>\n",
       "      <td>4</td>\n",
       "      <td>6</td>\n",
       "      <td>6</td>\n",
       "    </tr>\n",
       "    <tr>\n",
       "      <th>NK</th>\n",
       "      <td>3</td>\n",
       "      <td>1</td>\n",
       "      <td>11</td>\n",
       "      <td>15</td>\n",
       "      <td>4</td>\n",
       "      <td>3</td>\n",
       "      <td>3</td>\n",
       "      <td>2</td>\n",
       "    </tr>\n",
       "    <tr>\n",
       "      <th>T cell CD4</th>\n",
       "      <td>1</td>\n",
       "      <td>2</td>\n",
       "      <td>7</td>\n",
       "      <td>7</td>\n",
       "      <td>2</td>\n",
       "      <td>1</td>\n",
       "      <td>2</td>\n",
       "      <td>1</td>\n",
       "    </tr>\n",
       "    <tr>\n",
       "      <th>T cell CD8</th>\n",
       "      <td>5</td>\n",
       "      <td>2</td>\n",
       "      <td>11</td>\n",
       "      <td>12</td>\n",
       "      <td>1</td>\n",
       "      <td>1</td>\n",
       "      <td>1</td>\n",
       "      <td>1</td>\n",
       "    </tr>\n",
       "    <tr>\n",
       "      <th>T cell regulatory</th>\n",
       "      <td>5</td>\n",
       "      <td>1</td>\n",
       "      <td>13</td>\n",
       "      <td>13</td>\n",
       "      <td>2</td>\n",
       "      <td>1</td>\n",
       "      <td>2</td>\n",
       "      <td>3</td>\n",
       "    </tr>\n",
       "  </tbody>\n",
       "</table>\n",
       "</div>"
      ],
      "text/plain": [
       "source             B cell  Cancer cell  Macrophage  Monocyte  NK  T cell CD4  \\\n",
       "target                                                                         \n",
       "B cell                  0            1           3         4   2           0   \n",
       "Cancer cell             2            7          21        18   4           2   \n",
       "Macrophage              9            9          36        30   5           4   \n",
       "Monocyte                8            7          27        23   6           4   \n",
       "NK                      3            1          11        15   4           3   \n",
       "T cell CD4              1            2           7         7   2           1   \n",
       "T cell CD8              5            2          11        12   1           1   \n",
       "T cell regulatory       5            1          13        13   2           1   \n",
       "\n",
       "source             T cell CD8  T cell regulatory  \n",
       "target                                            \n",
       "B cell                      2                  1  \n",
       "Cancer cell                 4                  3  \n",
       "Macrophage                  6                  5  \n",
       "Monocyte                    6                  6  \n",
       "NK                          3                  2  \n",
       "T cell CD4                  2                  1  \n",
       "T cell CD8                  1                  1  \n",
       "T cell regulatory           2                  3  "
      ]
     },
     "execution_count": 22,
     "metadata": {},
     "output_type": "execute_result"
    }
   ],
   "source": [
    "interaction_matrix"
   ]
  },
  {
   "cell_type": "code",
   "execution_count": 23,
   "id": "62d9f3ae-657a-4c54-b7fe-26086c4da2e5",
   "metadata": {},
   "outputs": [],
   "source": [
    "interaction_matrix[\"Neutrophil\"]=list(interaction_matrix_neutro[\"Neutrophil\"])"
   ]
  },
  {
   "cell_type": "code",
   "execution_count": 24,
   "id": "bac9e65e-4ebc-406f-b3a8-6b95d284302a",
   "metadata": {},
   "outputs": [],
   "source": [
    "interaction_matrix = interaction_matrix.T"
   ]
  },
  {
   "cell_type": "code",
   "execution_count": 25,
   "id": "c071d1ce-41b8-4528-8a30-64ee62d3af9c",
   "metadata": {},
   "outputs": [
    {
     "data": {
      "text/html": [
       "<div>\n",
       "<style scoped>\n",
       "    .dataframe tbody tr th:only-of-type {\n",
       "        vertical-align: middle;\n",
       "    }\n",
       "\n",
       "    .dataframe tbody tr th {\n",
       "        vertical-align: top;\n",
       "    }\n",
       "\n",
       "    .dataframe thead th {\n",
       "        text-align: right;\n",
       "    }\n",
       "</style>\n",
       "<table border=\"1\" class=\"dataframe\">\n",
       "  <thead>\n",
       "    <tr style=\"text-align: right;\">\n",
       "      <th>target</th>\n",
       "      <th>B cell</th>\n",
       "      <th>Cancer cell</th>\n",
       "      <th>Macrophage</th>\n",
       "      <th>Monocyte</th>\n",
       "      <th>NK</th>\n",
       "      <th>T cell CD4</th>\n",
       "      <th>T cell CD8</th>\n",
       "      <th>T cell regulatory</th>\n",
       "    </tr>\n",
       "    <tr>\n",
       "      <th>source</th>\n",
       "      <th></th>\n",
       "      <th></th>\n",
       "      <th></th>\n",
       "      <th></th>\n",
       "      <th></th>\n",
       "      <th></th>\n",
       "      <th></th>\n",
       "      <th></th>\n",
       "    </tr>\n",
       "  </thead>\n",
       "  <tbody>\n",
       "    <tr>\n",
       "      <th>B cell</th>\n",
       "      <td>0</td>\n",
       "      <td>2</td>\n",
       "      <td>9</td>\n",
       "      <td>8</td>\n",
       "      <td>3</td>\n",
       "      <td>1</td>\n",
       "      <td>5</td>\n",
       "      <td>5</td>\n",
       "    </tr>\n",
       "    <tr>\n",
       "      <th>Cancer cell</th>\n",
       "      <td>1</td>\n",
       "      <td>7</td>\n",
       "      <td>9</td>\n",
       "      <td>7</td>\n",
       "      <td>1</td>\n",
       "      <td>2</td>\n",
       "      <td>2</td>\n",
       "      <td>1</td>\n",
       "    </tr>\n",
       "    <tr>\n",
       "      <th>Macrophage</th>\n",
       "      <td>3</td>\n",
       "      <td>21</td>\n",
       "      <td>36</td>\n",
       "      <td>27</td>\n",
       "      <td>11</td>\n",
       "      <td>7</td>\n",
       "      <td>11</td>\n",
       "      <td>13</td>\n",
       "    </tr>\n",
       "    <tr>\n",
       "      <th>Monocyte</th>\n",
       "      <td>4</td>\n",
       "      <td>18</td>\n",
       "      <td>30</td>\n",
       "      <td>23</td>\n",
       "      <td>15</td>\n",
       "      <td>7</td>\n",
       "      <td>12</td>\n",
       "      <td>13</td>\n",
       "    </tr>\n",
       "    <tr>\n",
       "      <th>NK</th>\n",
       "      <td>2</td>\n",
       "      <td>4</td>\n",
       "      <td>5</td>\n",
       "      <td>6</td>\n",
       "      <td>4</td>\n",
       "      <td>2</td>\n",
       "      <td>1</td>\n",
       "      <td>2</td>\n",
       "    </tr>\n",
       "    <tr>\n",
       "      <th>T cell CD4</th>\n",
       "      <td>0</td>\n",
       "      <td>2</td>\n",
       "      <td>4</td>\n",
       "      <td>4</td>\n",
       "      <td>3</td>\n",
       "      <td>1</td>\n",
       "      <td>1</td>\n",
       "      <td>1</td>\n",
       "    </tr>\n",
       "    <tr>\n",
       "      <th>T cell CD8</th>\n",
       "      <td>2</td>\n",
       "      <td>4</td>\n",
       "      <td>6</td>\n",
       "      <td>6</td>\n",
       "      <td>3</td>\n",
       "      <td>2</td>\n",
       "      <td>1</td>\n",
       "      <td>2</td>\n",
       "    </tr>\n",
       "    <tr>\n",
       "      <th>T cell regulatory</th>\n",
       "      <td>1</td>\n",
       "      <td>3</td>\n",
       "      <td>5</td>\n",
       "      <td>6</td>\n",
       "      <td>2</td>\n",
       "      <td>1</td>\n",
       "      <td>1</td>\n",
       "      <td>3</td>\n",
       "    </tr>\n",
       "    <tr>\n",
       "      <th>Neutrophil</th>\n",
       "      <td>5</td>\n",
       "      <td>25</td>\n",
       "      <td>18</td>\n",
       "      <td>42</td>\n",
       "      <td>25</td>\n",
       "      <td>0</td>\n",
       "      <td>11</td>\n",
       "      <td>9</td>\n",
       "    </tr>\n",
       "  </tbody>\n",
       "</table>\n",
       "</div>"
      ],
      "text/plain": [
       "target             B cell  Cancer cell  Macrophage  Monocyte  NK  T cell CD4  \\\n",
       "source                                                                         \n",
       "B cell                  0            2           9         8   3           1   \n",
       "Cancer cell             1            7           9         7   1           2   \n",
       "Macrophage              3           21          36        27  11           7   \n",
       "Monocyte                4           18          30        23  15           7   \n",
       "NK                      2            4           5         6   4           2   \n",
       "T cell CD4              0            2           4         4   3           1   \n",
       "T cell CD8              2            4           6         6   3           2   \n",
       "T cell regulatory       1            3           5         6   2           1   \n",
       "Neutrophil              5           25          18        42  25           0   \n",
       "\n",
       "target             T cell CD8  T cell regulatory  \n",
       "source                                            \n",
       "B cell                      5                  5  \n",
       "Cancer cell                 2                  1  \n",
       "Macrophage                 11                 13  \n",
       "Monocyte                   12                 13  \n",
       "NK                          1                  2  \n",
       "T cell CD4                  1                  1  \n",
       "T cell CD8                  1                  2  \n",
       "T cell regulatory           1                  3  \n",
       "Neutrophil                 11                  9  "
      ]
     },
     "execution_count": 25,
     "metadata": {},
     "output_type": "execute_result"
    }
   ],
   "source": [
    "interaction_matrix"
   ]
  },
  {
   "cell_type": "code",
   "execution_count": 26,
   "id": "ba7425b0-ffc3-4a6c-8be8-aa9d6900add4",
   "metadata": {},
   "outputs": [
    {
     "data": {
      "image/png": "[encoded data removed]",
      "text/plain": [
       "<Figure size 1000x800 with 2 Axes>"
      ]
     },
     "metadata": {},
     "output_type": "display_data"
    }
   ],
   "source": [
    "# Plotting the heatmap\n",
    "plt.figure(figsize=(10, 8))\n",
    "heatmap = sns.heatmap(interaction_matrix, annot=True, fmt=\"d\", cmap=\"Reds\", cbar=True)\n",
    "heatmap.invert_yaxis()\n",
    "colorbar = heatmap.collections[0].colorbar\n",
    "colorbar.set_label('N.Interactions')\n",
    "# Adding labels and title\n",
    "plt.title('Cell2cell unique interactions')\n",
    "plt.xlabel('Target')\n",
    "plt.ylabel('Source')\n",
    "# Adjust layout to ensure everything fits into the figure area\n",
    "plt.tight_layout()\n",
    "plt.savefig('/data/scratch/kvalem/projects/2022/crc_atlas_circos_plot/06-reports/05072024_Zlatko/c2c_unique_heatmap.svg' )\n",
    "plt.savefig('/data/scratch/kvalem/projects/2022/crc_atlas_circos_plot/06-reports/05072024_Zlatko/c2c_unique_heatmap.png' )"
   ]
  },
  {
   "cell_type": "code",
   "execution_count": 27,
   "id": "a262b232-097d-4674-90b8-d06ab0476d25",
   "metadata": {},
   "outputs": [],
   "source": [
    "interaction_matrix = np.array(interaction_matrix)\n",
    "# Sum all the numbers in the interaction matrix\n",
    "total_sum = np.sum(interaction_matrix)"
   ]
  },
  {
   "cell_type": "code",
   "execution_count": 28,
   "id": "4cb4c642-1ef6-440f-a0a1-f07f991ba48a",
   "metadata": {},
   "outputs": [
    {
     "data": {
      "text/plain": [
       "539"
      ]
     },
     "execution_count": 28,
     "metadata": {},
     "output_type": "execute_result"
    }
   ],
   "source": [
    "total_sum"
   ]
  }
 ],
 "metadata": {
  "kernelspec": {
   "display_name": "tcr_2024",
   "language": "python",
   "name": "tcr_2024"
  },
  "language_info": {
   "codemirror_mode": {
    "name": "ipython",
    "version": 3
   },
   "file_extension": ".py",
   "mimetype": "text/x-python",
   "name": "python",
   "nbconvert_exporter": "python",
   "pygments_lexer": "ipython3",
   "version": "3.12.4"
  }
 },
 "nbformat": 4,
 "nbformat_minor": 5
}
