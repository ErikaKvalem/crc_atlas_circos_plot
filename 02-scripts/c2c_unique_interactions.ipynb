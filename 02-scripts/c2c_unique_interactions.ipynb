{
 "cells": [
  {
   "cell_type": "markdown",
   "id": "faded43e-81a7-4e6a-8362-6ed3d69e2b5a",
   "metadata": {},
   "source": [
    "# Analysis of single-cell TCR repertoires and gene expression from multi-modal scRNA-seq data\n",
    "From book chapter"
   ]
  },
  {
   "cell_type": "code",
   "execution_count": 19,
   "id": "301ae631-eac5-47b6-8bb8-f499187ce609",
   "metadata": {},
   "outputs": [],
   "source": [
    "import muon as mu\n",
    "import pandas as pd\n",
    "import scanpy as sc\n",
    "import scirpy as ir\n",
    "import numpy as np"
   ]
  },
  {
   "cell_type": "code",
   "execution_count": 20,
   "id": "9c104688-2245-4f16-8c1e-d900c7611a72",
   "metadata": {},
   "outputs": [],
   "source": [
    "import matplotlib.pyplot as plt\n",
    "import seaborn as sns"
   ]
  },
  {
   "cell_type": "code",
   "execution_count": 21,
   "id": "c7169870-26d1-4447-b96b-8e18d4858f15",
   "metadata": {},
   "outputs": [],
   "source": [
    "df = pd.read_csv(\"/data/projects/2022/CRCA/results/v0.1/crc-atlas-dataset/latest/ds_analyses/liana_cell2cell/neutrophil_subclusters/tumor_blood/neutrophil.csv\")"
   ]
  },
  {
   "cell_type": "code",
   "execution_count": 22,
   "id": "7fa42413-fcb5-4015-9094-5da01ae3d544",
   "metadata": {},
   "outputs": [],
   "source": [
    "df_ss = df[df[\"cell_type\"].isin(['B cell','Macrophage', 'Monocyte', 'NK',\n",
    " 'T cell CD4',\n",
    " 'T cell CD8',\n",
    " 'T cell regulatory','Cancer cell'])]"
   ]
  },
  {
   "cell_type": "code",
   "execution_count": 23,
   "id": "4ca125bf-d3ac-4d93-8dcb-9c9c34ca81de",
   "metadata": {},
   "outputs": [
    {
     "data": {
      "text/html": [
       "<div>\n",
       "<style scoped>\n",
       "    .dataframe tbody tr th:only-of-type {\n",
       "        vertical-align: middle;\n",
       "    }\n",
       "\n",
       "    .dataframe tbody tr th {\n",
       "        vertical-align: top;\n",
       "    }\n",
       "\n",
       "    .dataframe thead th {\n",
       "        text-align: right;\n",
       "    }\n",
       "</style>\n",
       "<table border=\"1\" class=\"dataframe\">\n",
       "  <thead>\n",
       "    <tr style=\"text-align: right;\">\n",
       "      <th></th>\n",
       "      <th>Unnamed: 0</th>\n",
       "      <th>cell_type</th>\n",
       "      <th>fraction_expressed</th>\n",
       "      <th>expr_mean</th>\n",
       "      <th>source</th>\n",
       "      <th>target</th>\n",
       "      <th>source_genesymbol</th>\n",
       "      <th>target_genesymbol</th>\n",
       "      <th>lr_means</th>\n",
       "      <th>cellphone_pvals</th>\n",
       "      <th>...</th>\n",
       "      <th>magnitude_rank</th>\n",
       "      <th>baseMean</th>\n",
       "      <th>log2FoldChange</th>\n",
       "      <th>lfcSE</th>\n",
       "      <th>stat</th>\n",
       "      <th>pvalue</th>\n",
       "      <th>padj</th>\n",
       "      <th>weight</th>\n",
       "      <th>group</th>\n",
       "      <th>fdr</th>\n",
       "    </tr>\n",
       "  </thead>\n",
       "  <tbody>\n",
       "    <tr>\n",
       "      <th>0</th>\n",
       "      <td>0</td>\n",
       "      <td>Cancer cell</td>\n",
       "      <td>0.576713</td>\n",
       "      <td>4.161232</td>\n",
       "      <td>Cancer cell</td>\n",
       "      <td>Cancer cell</td>\n",
       "      <td>VEGFA</td>\n",
       "      <td>EPHB2</td>\n",
       "      <td>0.239201</td>\n",
       "      <td>0.0</td>\n",
       "      <td>...</td>\n",
       "      <td>0.381204</td>\n",
       "      <td>488.510843</td>\n",
       "      <td>3.216367</td>\n",
       "      <td>0.252804</td>\n",
       "      <td>12.722779</td>\n",
       "      <td>4.418599e-37</td>\n",
       "      <td>2.202221e-35</td>\n",
       "      <td>0.646988</td>\n",
       "      <td>tumor_vs_blood</td>\n",
       "      <td>7.806192e-36</td>\n",
       "    </tr>\n",
       "    <tr>\n",
       "      <th>1</th>\n",
       "      <td>1</td>\n",
       "      <td>Cancer cell</td>\n",
       "      <td>0.576713</td>\n",
       "      <td>4.161232</td>\n",
       "      <td>Macrophage</td>\n",
       "      <td>Cancer cell</td>\n",
       "      <td>VEGFA</td>\n",
       "      <td>EPHB2</td>\n",
       "      <td>0.218933</td>\n",
       "      <td>0.0</td>\n",
       "      <td>...</td>\n",
       "      <td>0.468985</td>\n",
       "      <td>488.510843</td>\n",
       "      <td>3.216367</td>\n",
       "      <td>0.252804</td>\n",
       "      <td>12.722779</td>\n",
       "      <td>4.418599e-37</td>\n",
       "      <td>2.202221e-35</td>\n",
       "      <td>0.646988</td>\n",
       "      <td>tumor_vs_blood</td>\n",
       "      <td>7.806192e-36</td>\n",
       "    </tr>\n",
       "    <tr>\n",
       "      <th>2</th>\n",
       "      <td>2</td>\n",
       "      <td>Cancer cell</td>\n",
       "      <td>0.576713</td>\n",
       "      <td>4.161232</td>\n",
       "      <td>Mast cell</td>\n",
       "      <td>Cancer cell</td>\n",
       "      <td>VEGFA</td>\n",
       "      <td>EPHB2</td>\n",
       "      <td>0.260421</td>\n",
       "      <td>0.0</td>\n",
       "      <td>...</td>\n",
       "      <td>0.487328</td>\n",
       "      <td>488.510843</td>\n",
       "      <td>3.216367</td>\n",
       "      <td>0.252804</td>\n",
       "      <td>12.722779</td>\n",
       "      <td>4.418599e-37</td>\n",
       "      <td>2.202221e-35</td>\n",
       "      <td>0.646988</td>\n",
       "      <td>tumor_vs_blood</td>\n",
       "      <td>7.806192e-36</td>\n",
       "    </tr>\n",
       "    <tr>\n",
       "      <th>3</th>\n",
       "      <td>3</td>\n",
       "      <td>Cancer cell</td>\n",
       "      <td>0.576713</td>\n",
       "      <td>4.161232</td>\n",
       "      <td>Monocyte</td>\n",
       "      <td>Cancer cell</td>\n",
       "      <td>VEGFA</td>\n",
       "      <td>EPHB2</td>\n",
       "      <td>0.384785</td>\n",
       "      <td>0.0</td>\n",
       "      <td>...</td>\n",
       "      <td>0.506716</td>\n",
       "      <td>488.510843</td>\n",
       "      <td>3.216367</td>\n",
       "      <td>0.252804</td>\n",
       "      <td>12.722779</td>\n",
       "      <td>4.418599e-37</td>\n",
       "      <td>2.202221e-35</td>\n",
       "      <td>0.646988</td>\n",
       "      <td>tumor_vs_blood</td>\n",
       "      <td>7.806192e-36</td>\n",
       "    </tr>\n",
       "    <tr>\n",
       "      <th>4</th>\n",
       "      <td>4</td>\n",
       "      <td>Cancer cell</td>\n",
       "      <td>0.576713</td>\n",
       "      <td>4.161232</td>\n",
       "      <td>cDC</td>\n",
       "      <td>Cancer cell</td>\n",
       "      <td>VEGFA</td>\n",
       "      <td>EPHB2</td>\n",
       "      <td>0.198957</td>\n",
       "      <td>0.0</td>\n",
       "      <td>...</td>\n",
       "      <td>0.620803</td>\n",
       "      <td>488.510843</td>\n",
       "      <td>3.216367</td>\n",
       "      <td>0.252804</td>\n",
       "      <td>12.722779</td>\n",
       "      <td>4.418599e-37</td>\n",
       "      <td>2.202221e-35</td>\n",
       "      <td>0.646988</td>\n",
       "      <td>tumor_vs_blood</td>\n",
       "      <td>7.806192e-36</td>\n",
       "    </tr>\n",
       "    <tr>\n",
       "      <th>...</th>\n",
       "      <td>...</td>\n",
       "      <td>...</td>\n",
       "      <td>...</td>\n",
       "      <td>...</td>\n",
       "      <td>...</td>\n",
       "      <td>...</td>\n",
       "      <td>...</td>\n",
       "      <td>...</td>\n",
       "      <td>...</td>\n",
       "      <td>...</td>\n",
       "      <td>...</td>\n",
       "      <td>...</td>\n",
       "      <td>...</td>\n",
       "      <td>...</td>\n",
       "      <td>...</td>\n",
       "      <td>...</td>\n",
       "      <td>...</td>\n",
       "      <td>...</td>\n",
       "      <td>...</td>\n",
       "      <td>...</td>\n",
       "      <td>...</td>\n",
       "    </tr>\n",
       "    <tr>\n",
       "      <th>10877</th>\n",
       "      <td>10877</td>\n",
       "      <td>B cell</td>\n",
       "      <td>0.265693</td>\n",
       "      <td>4.195458</td>\n",
       "      <td>Monocyte</td>\n",
       "      <td>cDC</td>\n",
       "      <td>ICAM1</td>\n",
       "      <td>IL2RG</td>\n",
       "      <td>0.424953</td>\n",
       "      <td>0.0</td>\n",
       "      <td>...</td>\n",
       "      <td>0.371615</td>\n",
       "      <td>1992.206862</td>\n",
       "      <td>2.503059</td>\n",
       "      <td>0.415237</td>\n",
       "      <td>6.028022</td>\n",
       "      <td>1.659786e-09</td>\n",
       "      <td>8.523535e-09</td>\n",
       "      <td>0.686062</td>\n",
       "      <td>tumor_vs_blood</td>\n",
       "      <td>4.009744e-09</td>\n",
       "    </tr>\n",
       "    <tr>\n",
       "      <th>10878</th>\n",
       "      <td>10878</td>\n",
       "      <td>B cell</td>\n",
       "      <td>0.265693</td>\n",
       "      <td>4.195458</td>\n",
       "      <td>Endothelial</td>\n",
       "      <td>cDC</td>\n",
       "      <td>ICAM1</td>\n",
       "      <td>IL2RG</td>\n",
       "      <td>0.425568</td>\n",
       "      <td>0.0</td>\n",
       "      <td>...</td>\n",
       "      <td>0.380413</td>\n",
       "      <td>1992.206862</td>\n",
       "      <td>2.503059</td>\n",
       "      <td>0.415237</td>\n",
       "      <td>6.028022</td>\n",
       "      <td>1.659786e-09</td>\n",
       "      <td>8.523535e-09</td>\n",
       "      <td>0.686062</td>\n",
       "      <td>tumor_vs_blood</td>\n",
       "      <td>4.009744e-09</td>\n",
       "    </tr>\n",
       "    <tr>\n",
       "      <th>10879</th>\n",
       "      <td>10879</td>\n",
       "      <td>B cell</td>\n",
       "      <td>0.265693</td>\n",
       "      <td>4.195458</td>\n",
       "      <td>Macrophage</td>\n",
       "      <td>T cell CD4</td>\n",
       "      <td>ICAM1</td>\n",
       "      <td>IL2RG</td>\n",
       "      <td>0.408593</td>\n",
       "      <td>0.0</td>\n",
       "      <td>...</td>\n",
       "      <td>0.419573</td>\n",
       "      <td>1992.206862</td>\n",
       "      <td>2.503059</td>\n",
       "      <td>0.415237</td>\n",
       "      <td>6.028022</td>\n",
       "      <td>1.659786e-09</td>\n",
       "      <td>8.523535e-09</td>\n",
       "      <td>0.686062</td>\n",
       "      <td>tumor_vs_blood</td>\n",
       "      <td>4.009744e-09</td>\n",
       "    </tr>\n",
       "    <tr>\n",
       "      <th>10880</th>\n",
       "      <td>10880</td>\n",
       "      <td>B cell</td>\n",
       "      <td>0.265693</td>\n",
       "      <td>4.195458</td>\n",
       "      <td>cDC</td>\n",
       "      <td>T cell CD8</td>\n",
       "      <td>ICAM1</td>\n",
       "      <td>IL2RG</td>\n",
       "      <td>0.397014</td>\n",
       "      <td>0.0</td>\n",
       "      <td>...</td>\n",
       "      <td>0.460248</td>\n",
       "      <td>1992.206862</td>\n",
       "      <td>2.503059</td>\n",
       "      <td>0.415237</td>\n",
       "      <td>6.028022</td>\n",
       "      <td>1.659786e-09</td>\n",
       "      <td>8.523535e-09</td>\n",
       "      <td>0.686062</td>\n",
       "      <td>tumor_vs_blood</td>\n",
       "      <td>4.009744e-09</td>\n",
       "    </tr>\n",
       "    <tr>\n",
       "      <th>10881</th>\n",
       "      <td>10881</td>\n",
       "      <td>B cell</td>\n",
       "      <td>0.265693</td>\n",
       "      <td>4.195458</td>\n",
       "      <td>Macrophage</td>\n",
       "      <td>pDC</td>\n",
       "      <td>ICAM1</td>\n",
       "      <td>IL2RG</td>\n",
       "      <td>0.389081</td>\n",
       "      <td>0.0</td>\n",
       "      <td>...</td>\n",
       "      <td>0.489216</td>\n",
       "      <td>1992.206862</td>\n",
       "      <td>2.503059</td>\n",
       "      <td>0.415237</td>\n",
       "      <td>6.028022</td>\n",
       "      <td>1.659786e-09</td>\n",
       "      <td>8.523535e-09</td>\n",
       "      <td>0.686062</td>\n",
       "      <td>tumor_vs_blood</td>\n",
       "      <td>4.009744e-09</td>\n",
       "    </tr>\n",
       "  </tbody>\n",
       "</table>\n",
       "<p>5167 rows × 28 columns</p>\n",
       "</div>"
      ],
      "text/plain": [
       "       Unnamed: 0    cell_type  fraction_expressed  expr_mean       source  \\\n",
       "0               0  Cancer cell            0.576713   4.161232  Cancer cell   \n",
       "1               1  Cancer cell            0.576713   4.161232   Macrophage   \n",
       "2               2  Cancer cell            0.576713   4.161232    Mast cell   \n",
       "3               3  Cancer cell            0.576713   4.161232     Monocyte   \n",
       "4               4  Cancer cell            0.576713   4.161232          cDC   \n",
       "...           ...          ...                 ...        ...          ...   \n",
       "10877       10877       B cell            0.265693   4.195458     Monocyte   \n",
       "10878       10878       B cell            0.265693   4.195458  Endothelial   \n",
       "10879       10879       B cell            0.265693   4.195458   Macrophage   \n",
       "10880       10880       B cell            0.265693   4.195458          cDC   \n",
       "10881       10881       B cell            0.265693   4.195458   Macrophage   \n",
       "\n",
       "            target source_genesymbol target_genesymbol  lr_means  \\\n",
       "0      Cancer cell             VEGFA             EPHB2  0.239201   \n",
       "1      Cancer cell             VEGFA             EPHB2  0.218933   \n",
       "2      Cancer cell             VEGFA             EPHB2  0.260421   \n",
       "3      Cancer cell             VEGFA             EPHB2  0.384785   \n",
       "4      Cancer cell             VEGFA             EPHB2  0.198957   \n",
       "...            ...               ...               ...       ...   \n",
       "10877          cDC             ICAM1             IL2RG  0.424953   \n",
       "10878          cDC             ICAM1             IL2RG  0.425568   \n",
       "10879   T cell CD4             ICAM1             IL2RG  0.408593   \n",
       "10880   T cell CD8             ICAM1             IL2RG  0.397014   \n",
       "10881          pDC             ICAM1             IL2RG  0.389081   \n",
       "\n",
       "       cellphone_pvals  ...  magnitude_rank     baseMean  log2FoldChange  \\\n",
       "0                  0.0  ...        0.381204   488.510843        3.216367   \n",
       "1                  0.0  ...        0.468985   488.510843        3.216367   \n",
       "2                  0.0  ...        0.487328   488.510843        3.216367   \n",
       "3                  0.0  ...        0.506716   488.510843        3.216367   \n",
       "4                  0.0  ...        0.620803   488.510843        3.216367   \n",
       "...                ...  ...             ...          ...             ...   \n",
       "10877              0.0  ...        0.371615  1992.206862        2.503059   \n",
       "10878              0.0  ...        0.380413  1992.206862        2.503059   \n",
       "10879              0.0  ...        0.419573  1992.206862        2.503059   \n",
       "10880              0.0  ...        0.460248  1992.206862        2.503059   \n",
       "10881              0.0  ...        0.489216  1992.206862        2.503059   \n",
       "\n",
       "          lfcSE       stat        pvalue          padj    weight  \\\n",
       "0      0.252804  12.722779  4.418599e-37  2.202221e-35  0.646988   \n",
       "1      0.252804  12.722779  4.418599e-37  2.202221e-35  0.646988   \n",
       "2      0.252804  12.722779  4.418599e-37  2.202221e-35  0.646988   \n",
       "3      0.252804  12.722779  4.418599e-37  2.202221e-35  0.646988   \n",
       "4      0.252804  12.722779  4.418599e-37  2.202221e-35  0.646988   \n",
       "...         ...        ...           ...           ...       ...   \n",
       "10877  0.415237   6.028022  1.659786e-09  8.523535e-09  0.686062   \n",
       "10878  0.415237   6.028022  1.659786e-09  8.523535e-09  0.686062   \n",
       "10879  0.415237   6.028022  1.659786e-09  8.523535e-09  0.686062   \n",
       "10880  0.415237   6.028022  1.659786e-09  8.523535e-09  0.686062   \n",
       "10881  0.415237   6.028022  1.659786e-09  8.523535e-09  0.686062   \n",
       "\n",
       "                group           fdr  \n",
       "0      tumor_vs_blood  7.806192e-36  \n",
       "1      tumor_vs_blood  7.806192e-36  \n",
       "2      tumor_vs_blood  7.806192e-36  \n",
       "3      tumor_vs_blood  7.806192e-36  \n",
       "4      tumor_vs_blood  7.806192e-36  \n",
       "...               ...           ...  \n",
       "10877  tumor_vs_blood  4.009744e-09  \n",
       "10878  tumor_vs_blood  4.009744e-09  \n",
       "10879  tumor_vs_blood  4.009744e-09  \n",
       "10880  tumor_vs_blood  4.009744e-09  \n",
       "10881  tumor_vs_blood  4.009744e-09  \n",
       "\n",
       "[5167 rows x 28 columns]"
      ]
     },
     "execution_count": 23,
     "metadata": {},
     "output_type": "execute_result"
    }
   ],
   "source": [
    "df_ss"
   ]
  },
  {
   "cell_type": "markdown",
   "id": "42736820-628a-4027-868e-df201a215fd4",
   "metadata": {},
   "source": [
    "## Neutrophils interactions"
   ]
  },
  {
   "cell_type": "code",
   "execution_count": 5,
   "id": "b939b7ac-c8de-4d30-82c4-df6f4aedefb7",
   "metadata": {},
   "outputs": [],
   "source": [
    "df_ss_neutro  = df_ss"
   ]
  },
  {
   "cell_type": "code",
   "execution_count": 6,
   "id": "621b3410-2784-4b57-a8f3-56cac7351580",
   "metadata": {},
   "outputs": [
    {
     "name": "stderr",
     "output_type": "stream",
     "text": [
      "/tmp/ipykernel_160817/3182691188.py:1: SettingWithCopyWarning: \n",
      "A value is trying to be set on a copy of a slice from a DataFrame.\n",
      "Try using .loc[row_indexer,col_indexer] = value instead\n",
      "\n",
      "See the caveats in the documentation: https://pandas.pydata.org/pandas-docs/stable/user_guide/indexing.html#returning-a-view-versus-a-copy\n",
      "  df_ss_neutro[\"cluster_1\"] = \"Neutrophil\"\n"
     ]
    }
   ],
   "source": [
    "df_ss_neutro[\"cluster_1\"] = \"Neutrophil\""
   ]
  },
  {
   "cell_type": "code",
   "execution_count": 7,
   "id": "7aad914f-c009-478a-ba69-b85ccf8d9139",
   "metadata": {
    "scrolled": true
   },
   "outputs": [
    {
     "name": "stderr",
     "output_type": "stream",
     "text": [
      "/tmp/ipykernel_160817/83736731.py:1: SettingWithCopyWarning: \n",
      "A value is trying to be set on a copy of a slice from a DataFrame.\n",
      "Try using .loc[row_indexer,col_indexer] = value instead\n",
      "\n",
      "See the caveats in the documentation: https://pandas.pydata.org/pandas-docs/stable/user_guide/indexing.html#returning-a-view-versus-a-copy\n",
      "  df_ss_neutro[\"new_column_neutro\"]= df_ss_neutro[\"source_genesymbol\"] +  df_ss_neutro[\"target_genesymbol\"] + df_ss_neutro[\"source\"]+df_ss_neutro[\"cluster_1\"]\n"
     ]
    }
   ],
   "source": [
    "df_ss_neutro[\"new_column_neutro\"]= df_ss_neutro[\"source_genesymbol\"] +  df_ss_neutro[\"target_genesymbol\"] + df_ss_neutro[\"source\"]+df_ss_neutro[\"cluster_1\"]"
   ]
  },
  {
   "cell_type": "code",
   "execution_count": 8,
   "id": "21f8ea31-cb92-4100-a381-42d2d5ebfacd",
   "metadata": {},
   "outputs": [],
   "source": [
    "unique_rows_neutro = df_ss_neutro.drop_duplicates(subset=\"new_column_neutro\")"
   ]
  },
  {
   "cell_type": "code",
   "execution_count": 9,
   "id": "42d40923-94e8-49d0-881e-06d32e64192a",
   "metadata": {},
   "outputs": [],
   "source": [
    "unique_sources_neutro = unique_rows_neutro['cluster_1'].unique()\n",
    "unique_targets_neutro = unique_rows_neutro['cell_type'].unique()"
   ]
  },
  {
   "cell_type": "code",
   "execution_count": 10,
   "id": "956cdbed-d27f-48d7-a16f-64650e566046",
   "metadata": {},
   "outputs": [],
   "source": [
    "interaction_matrix_neutro = pd.DataFrame([(src, tgt) for src in unique_sources_neutro for tgt in unique_targets_neutro], columns=['source', 'target'])"
   ]
  },
  {
   "cell_type": "code",
   "execution_count": 11,
   "id": "64cb2908-d220-4773-a8f6-f8a5fafe4f67",
   "metadata": {},
   "outputs": [],
   "source": [
    "count_df_neutro = unique_rows_neutro.groupby(['cluster_1', 'target']).size().reset_index(name='n')\n",
    "count_df_neutro.rename(columns = {\"cluster_1\":\"source\"}, inplace=True)\n",
    "interaction_matrix_neutro = interaction_matrix_neutro.merge(count_df_neutro, on=['source', 'target'], how='left').fillna(0)\n",
    "interaction_matrix_neutro = interaction_matrix_neutro.pivot(index='target', columns='source', values='n').fillna(0)\n",
    "interaction_matrix_neutro = interaction_matrix_neutro.astype(int)"
   ]
  },
  {
   "cell_type": "markdown",
   "id": "26c5e903-5fe8-479e-9ad1-a5a84cecaaa3",
   "metadata": {},
   "source": [
    "## All cells interactions"
   ]
  },
  {
   "cell_type": "code",
   "execution_count": 12,
   "id": "71f749cc-d03e-469a-9e0c-544cdd0678b1",
   "metadata": {},
   "outputs": [
    {
     "name": "stderr",
     "output_type": "stream",
     "text": [
      "/tmp/ipykernel_160817/2765319709.py:1: SettingWithCopyWarning: \n",
      "A value is trying to be set on a copy of a slice from a DataFrame.\n",
      "Try using .loc[row_indexer,col_indexer] = value instead\n",
      "\n",
      "See the caveats in the documentation: https://pandas.pydata.org/pandas-docs/stable/user_guide/indexing.html#returning-a-view-versus-a-copy\n",
      "  df_ss[\"new_column\"]= df_ss[\"source_genesymbol\"] +  df_ss[\"target_genesymbol\"] + df_ss[\"source\"]+df_ss[\"target\"]\n"
     ]
    }
   ],
   "source": [
    "df_ss[\"new_column\"]= df_ss[\"source_genesymbol\"] +  df_ss[\"target_genesymbol\"] + df_ss[\"source\"]+df_ss[\"target\"]"
   ]
  },
  {
   "cell_type": "code",
   "execution_count": 13,
   "id": "17a5deb2-6500-412a-b7a8-5acad06d8d31",
   "metadata": {},
   "outputs": [],
   "source": [
    "unique_rows = df_ss.drop_duplicates(subset=\"new_column\")"
   ]
  },
  {
   "cell_type": "code",
   "execution_count": 14,
   "id": "5f73e856-560d-4072-bc71-9f2808bcd74b",
   "metadata": {},
   "outputs": [],
   "source": [
    "unique_sources = unique_rows['cell_type'].unique()\n",
    "unique_targets = unique_rows['cell_type'].unique()"
   ]
  },
  {
   "cell_type": "code",
   "execution_count": 15,
   "id": "acb9a217-435a-4167-8dad-d1824e2c97d8",
   "metadata": {},
   "outputs": [],
   "source": [
    "interaction_matrix = pd.DataFrame([(src, tgt) for src in unique_sources for tgt in unique_targets], columns=['source', 'target'])\n",
    "count_df = unique_rows.groupby(['source', 'target']).size().reset_index(name='n')\n",
    "interaction_matrix = interaction_matrix.merge(count_df, on=['source', 'target'], how='left').fillna(0)\n",
    "interaction_matrix = interaction_matrix.pivot(index='target', columns='source', values='n').fillna(0)\n",
    "interaction_matrix = interaction_matrix.astype(int)"
   ]
  },
  {
   "cell_type": "code",
   "execution_count": 16,
   "id": "62d9f3ae-657a-4c54-b7fe-26086c4da2e5",
   "metadata": {},
   "outputs": [],
   "source": [
    "interaction_matrix[\"Neutrophil\"]=list(interaction_matrix_neutro[\"Neutrophil\"])"
   ]
  },
  {
   "cell_type": "code",
   "execution_count": 17,
   "id": "bac9e65e-4ebc-406f-b3a8-6b95d284302a",
   "metadata": {},
   "outputs": [],
   "source": [
    "interaction_matrix = interaction_matrix.T"
   ]
  },
  {
   "cell_type": "code",
   "execution_count": 18,
   "id": "ba7425b0-ffc3-4a6c-8be8-aa9d6900add4",
   "metadata": {},
   "outputs": [
    {
     "data": {
      "text/plain": [
       "Text(95.72222222222221, 0.5, 'Source')"
      ]
     },
     "execution_count": 18,
     "metadata": {},
     "output_type": "execute_result"
    },
    {
     "data": {
      "image/png": "[encoded data removed]",
      "text/plain": [
       "<Figure size 1000x800 with 2 Axes>"
      ]
     },
     "metadata": {},
     "output_type": "display_data"
    }
   ],
   "source": [
    "# Plotting the heatmap\n",
    "plt.figure(figsize=(10, 8))\n",
    "heatmap = sns.heatmap(interaction_matrix, annot=True, fmt=\"d\", cmap=\"Reds\", cbar=True)\n",
    "heatmap.invert_yaxis()\n",
    "# Adding labels and title\n",
    "plt.title('Interaction Matrix Heatmap')\n",
    "plt.xlabel('Target')\n",
    "plt.ylabel('Source')"
   ]
  }
 ],
 "metadata": {
  "kernelspec": {
   "display_name": "tcr_2024",
   "language": "python",
   "name": "tcr_2024"
  },
  "language_info": {
   "codemirror_mode": {
    "name": "ipython",
    "version": 3
   },
   "file_extension": ".py",
   "mimetype": "text/x-python",
   "name": "python",
   "nbconvert_exporter": "python",
   "pygments_lexer": "ipython3",
   "version": "3.12.4"
  }
 },
 "nbformat": 4,
 "nbformat_minor": 5
}
